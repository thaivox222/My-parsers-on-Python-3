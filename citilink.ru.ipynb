{
 "cells": [
  {
   "cell_type": "markdown",
   "metadata": {},
   "source": [
    "## Парсер сайта citilink.ru (категория смартфоны)"
   ]
  },
  {
   "cell_type": "markdown",
   "metadata": {},
   "source": [
    "Это парсер я написал за 3,5 часа, учитывая перерыв на чай и скролинг ленты Фейсбука"
   ]
  },
  {
   "cell_type": "code",
   "execution_count": 1,
   "metadata": {},
   "outputs": [],
   "source": [
    "#начинаем с импорта библиотек\n",
    "import requests\n",
    "from requests.auth import HTTPProxyAuth # для проксей\n",
    "from  bs4 import BeautifulSoup as bs\n",
    "import csv\n",
    "from urllib.request import urljoin\n",
    "from tqdm.notebook import tqdm\n",
    "from collections import deque\n",
    "import pandas as pd"
   ]
  },
  {
   "cell_type": "code",
   "execution_count": 2,
   "metadata": {},
   "outputs": [],
   "source": [
    "# Задаем глобальные параметры\n",
    "headers = {'accept': '*/*',\n",
    "           'User-Agent': 'Mozilla/5.0 (Windows NT 6.3; Win64; x64) AppleWebKit/537.36 (KHTML, like Gecko) Chrome/87.0.4280.66 Safari/537.36'\n",
    "          }\n",
    "domen = 'https://www.citilink.ru'\n",
    "url='https://www.citilink.ru/catalog/mobile/smartfony/'\n",
    "filename = 'citilink_product_links.csv'"
   ]
  },
  {
   "cell_type": "code",
   "execution_count": 39,
   "metadata": {},
   "outputs": [
    {
     "name": "stdout",
     "output_type": "stream",
     "text": [
      "DONE!\n"
     ]
    }
   ],
   "source": [
    "#формируем список страниц для обхода (пагинацию в категории)\n",
    "pages = get_pagination(url) #запуск пагинатора.на одной итерации обрабатывается одна категория \n",
    "#сбор продуктовых урлов с грида        \n",
    "temp_plinks=[]\n",
    "for gl in pages:\n",
    "    gpl = get_product_links(gl, headers, domen)\n",
    "    temp_plinks.append(gpl)\n",
    "#выпрямляем список продуктовых урлов    \n",
    "product_links=[]\n",
    "for sublist in temp_plinks:\n",
    "    for item in sublist:\n",
    "        product_links.append(item)   \n",
    "save_products(product_links)\n",
    "print('DONE!')"
   ]
  },
  {
   "cell_type": "code",
   "execution_count": 8,
   "metadata": {},
   "outputs": [],
   "source": [
    "#  блок формирования урлов пагинации\n",
    "def get_pagination(url):\n",
    "    pagi=[]\n",
    "    pagi.append(url)\n",
    "    for i in range(2,6):\n",
    "        u = str(url)+f'?/p={i}'\n",
    "        pagi.append(u)\n",
    "    return pagi"
   ]
  },
  {
   "cell_type": "code",
   "execution_count": 37,
   "metadata": {},
   "outputs": [],
   "source": [
    "# Функция сбора ссылок на целевые страницы\n",
    "def get_product_links(url, headers, domen):\n",
    "    links = []\n",
    "    session = requests.Session()\n",
    "    r = session.get(url, headers=headers)\n",
    "    soup = bs(r.text, 'lxml')\n",
    "    urls=set()\n",
    "    if url:\n",
    "        ul = soup.find_all('div', class_='ProductCardVertical__description')\n",
    "        for k in ul:\n",
    "            href = k.find('a', href=True)['href']\n",
    "            urls.add(href)\n",
    "        for i in urls:\n",
    "            link  = urljoin(domen,i)\n",
    "            links.append(link)\n",
    "    return links"
   ]
  },
  {
   "cell_type": "code",
   "execution_count": 33,
   "metadata": {},
   "outputs": [],
   "source": [
    "def save_products (result):\n",
    "    with open(filename, 'w', encoding = 'utf-8') as outfile:\n",
    "        spamwriter = csv.writer(outfile, lineterminator='\\n')\n",
    "        spamwriter.writerow(['Product_Link']) \n",
    "        for i in result:\n",
    "            spamwriter.writerow([i])\n",
    "            \n",
    "# Функция загрузки файла со ссылками на целевые страницы\n",
    "def open_csv(filename):\n",
    "    results=[]\n",
    "    with open(filename, 'r') as data:\n",
    "        data.readline().rstrip()\n",
    "        for line in data:\n",
    "            results.append(line[:-1])\n",
    "    return results\n",
    "\n",
    "def save_product_info(products):\n",
    "    with open('products.csv', 'w', encoding = 'utf-8') as outfile:\n",
    "        spamwriter = csv.DictWriter(outfile, fieldnames=get_field_name(products), lineterminator='\\n')    \n",
    "        spamwriter.writeheader() #записывет заголовки столбцов равные ключам словаря\n",
    "        spamwriter.writerows(products)\n",
    "        \n",
    "# Вспом.функция для сбора названия полей с словарях с продуктами для формирования заголовка в CSV (Без сортировки)\n",
    "def get_field_name(products):\n",
    "    field_names = set()\n",
    "    for i in products:\n",
    "        for k in i:\n",
    "            field_names.add(k)\n",
    "    return field_names\n",
    "\n",
    "def get_visited_urls():\n",
    "    try:\n",
    "        file = 'products.csv'\n",
    "        if file:\n",
    "            df = pd.read_csv(file, encoding = 'utf-8')\n",
    "            urls_done = df['5url'].tolist()\n",
    "            visited = set(urls_done)\n",
    "            return visited, df\n",
    "    except FileNotFoundError:\n",
    "        df=pd.DataFrame()\n",
    "        visited=set()\n",
    "        return visited, df # если файла не существует, товернем путой сет и список\n",
    "\n",
    "    \n",
    "def add_previous_part(df):\n",
    "    if df.shape[0] != 0:\n",
    "        file = 'products.csv'\n",
    "        df.to_csv(file, mode='a', index=False, encoding = 'utf-8', header=False)\n",
    "    else:\n",
    "        pass   "
   ]
  },
  {
   "cell_type": "code",
   "execution_count": 34,
   "metadata": {},
   "outputs": [],
   "source": [
    "# ВЕРСИЯ 2 С ПРОМЕЖУТОЧНЫМ СОХРАНЕНИЕМ\n",
    "def get_info2(headers, filename):\n",
    "    global df\n",
    "    results = open_csv(filename)\n",
    "    queue = deque()\n",
    "    queue.extend(results)\n",
    "    visited = get_visited_urls()[0]\n",
    "    df = get_visited_urls()[1]\n",
    "    session = requests.Session()\n",
    "    products = [] \n",
    "    while tqdm(queue, desc='Getting info from product page url', leave=False):   \n",
    "        url = queue.popleft()\n",
    "        if url in visited:\n",
    "            continue # начнет цикл while заново     \n",
    "        params={} # словарь для занесения параметров//можно в конце цикла все добавить как в кинопоиске без создания словаря\n",
    "        r = session.get(url, headers=headers)\n",
    "        soup = bs(r.text, 'lxml')\n",
    "        if soup:\n",
    "            visited.add(url) #добавляем в посещенные, только когда получим суп. т.е. страница доступна\n",
    "            try:\n",
    "                a=soup.find('h1', class_='Heading Heading_level_1 ProductHeader__title').text.strip()\n",
    "                if a:\n",
    "                    params['1_title']=a\n",
    "                b=soup.find('div', class_='ProductHeader__product-id').text\n",
    "                if b:\n",
    "                    params['2_articul']=b.lstrip('\\n                    Код товара:').strip()\n",
    "                c=soup.find('span', class_='ProductHeader__price-default_current-price').text\n",
    "                if c:\n",
    "                    params['3_price']=c.lstrip('\\n                                    ').strip()\n",
    "                d=soup.find('span', class_='IconWithCount__count js--IconWithCount__count').text\n",
    "                if d:\n",
    "                    params['4_rating']=d.lstrip('\\n           ').strip()\n",
    "                params['5url']=url\n",
    "                ###############################################\n",
    "                k1=[]\n",
    "                k2=[]\n",
    "                dict1={}\n",
    "                x=soup.find('div', class_='Specifications').find_all('div', class_='Specifications__column Specifications__column_name')\n",
    "                #print(x)\n",
    "                for i in x:\n",
    "                    k1.append(i.text.lstrip('\\n                    ').strip())\n",
    "                y=soup.find('div', class_='Specifications').find_all('div', class_='Specifications__column Specifications__column_value')\n",
    "                for i in y:\n",
    "                     k2.append(i.text.lstrip('\\n                    ').strip())\n",
    "                dict1 = dict(zip(k1, k2))\n",
    "                params.update(dict1)\n",
    "                products.append(params)\n",
    "            except:\n",
    "                products.append(params)\n",
    "                print('Часть тегов не обнаружена. Двигаюсь дальше')\n",
    "                pass\n",
    "        else:\n",
    "            print('Проблемы с супом')\n",
    "            save_product_info(products) # промежуточное сохранение на случай если суп не обнаружен\n",
    "            return False\n",
    "    save_product_info(products) #  для сохранения в CSV\n",
    "    add_previous_part(df) # перезапись предыдущих результатов в случае перезапуска парсера\n",
    "    print('DONE!')"
   ]
  },
  {
   "cell_type": "code",
   "execution_count": 37,
   "metadata": {},
   "outputs": [
    {
     "data": {
      "application/vnd.jupyter.widget-view+json": {
       "model_id": "2ac7a53ccc4f4a1cbd41d94ae174b072",
       "version_major": 2,
       "version_minor": 0
      },
      "text/plain": [
       "HBox(children=(HTML(value='Getting info from product page url'), FloatProgress(value=0.0, max=10.0), HTML(valu…"
      ]
     },
     "metadata": {},
     "output_type": "display_data"
    },
    {
     "data": {
      "application/vnd.jupyter.widget-view+json": {
       "model_id": "dc1a65efd72d4c3cacd24c33937a8c49",
       "version_major": 2,
       "version_minor": 0
      },
      "text/plain": [
       "HBox(children=(HTML(value='Getting info from product page url'), FloatProgress(value=0.0, max=9.0), HTML(value…"
      ]
     },
     "metadata": {},
     "output_type": "display_data"
    },
    {
     "data": {
      "application/vnd.jupyter.widget-view+json": {
       "model_id": "70056531f234427aae81b62aba3ae4e9",
       "version_major": 2,
       "version_minor": 0
      },
      "text/plain": [
       "HBox(children=(HTML(value='Getting info from product page url'), FloatProgress(value=0.0, max=8.0), HTML(value…"
      ]
     },
     "metadata": {},
     "output_type": "display_data"
    },
    {
     "data": {
      "application/vnd.jupyter.widget-view+json": {
       "model_id": "6d0fe079923446af8f49112dd30ba4ca",
       "version_major": 2,
       "version_minor": 0
      },
      "text/plain": [
       "HBox(children=(HTML(value='Getting info from product page url'), FloatProgress(value=0.0, max=7.0), HTML(value…"
      ]
     },
     "metadata": {},
     "output_type": "display_data"
    },
    {
     "data": {
      "application/vnd.jupyter.widget-view+json": {
       "model_id": "dd20b9d6640d4fae9a5343a94353f8ea",
       "version_major": 2,
       "version_minor": 0
      },
      "text/plain": [
       "HBox(children=(HTML(value='Getting info from product page url'), FloatProgress(value=0.0, max=6.0), HTML(value…"
      ]
     },
     "metadata": {},
     "output_type": "display_data"
    },
    {
     "data": {
      "application/vnd.jupyter.widget-view+json": {
       "model_id": "50a8ea12371348419defd52ed682ce44",
       "version_major": 2,
       "version_minor": 0
      },
      "text/plain": [
       "HBox(children=(HTML(value='Getting info from product page url'), FloatProgress(value=0.0, max=5.0), HTML(value…"
      ]
     },
     "metadata": {},
     "output_type": "display_data"
    },
    {
     "data": {
      "application/vnd.jupyter.widget-view+json": {
       "model_id": "76031055a15e4f4190ac85c7eeb833c2",
       "version_major": 2,
       "version_minor": 0
      },
      "text/plain": [
       "HBox(children=(HTML(value='Getting info from product page url'), FloatProgress(value=0.0, max=4.0), HTML(value…"
      ]
     },
     "metadata": {},
     "output_type": "display_data"
    },
    {
     "data": {
      "application/vnd.jupyter.widget-view+json": {
       "model_id": "daa420f623fd4096a5a3c94089b8521d",
       "version_major": 2,
       "version_minor": 0
      },
      "text/plain": [
       "HBox(children=(HTML(value='Getting info from product page url'), FloatProgress(value=0.0, max=3.0), HTML(value…"
      ]
     },
     "metadata": {},
     "output_type": "display_data"
    },
    {
     "data": {
      "application/vnd.jupyter.widget-view+json": {
       "model_id": "0a3b0efc350341c0ae8c71e57bc2b26b",
       "version_major": 2,
       "version_minor": 0
      },
      "text/plain": [
       "HBox(children=(HTML(value='Getting info from product page url'), FloatProgress(value=0.0, max=2.0), HTML(value…"
      ]
     },
     "metadata": {},
     "output_type": "display_data"
    },
    {
     "data": {
      "application/vnd.jupyter.widget-view+json": {
       "model_id": "af7eb49cde2543378ffbaf5ffb9cd826",
       "version_major": 2,
       "version_minor": 0
      },
      "text/plain": [
       "HBox(children=(HTML(value='Getting info from product page url'), FloatProgress(value=0.0, max=1.0), HTML(value…"
      ]
     },
     "metadata": {},
     "output_type": "display_data"
    },
    {
     "data": {
      "application/vnd.jupyter.widget-view+json": {
       "model_id": "fb73fae9f0cb407a86ec5fbf91bf0ea6",
       "version_major": 2,
       "version_minor": 0
      },
      "text/plain": [
       "HBox(children=(HTML(value='Getting info from product page url'), FloatProgress(value=1.0, bar_style='info', la…"
      ]
     },
     "metadata": {},
     "output_type": "display_data"
    },
    {
     "name": "stdout",
     "output_type": "stream",
     "text": [
      "DONE!\n"
     ]
    }
   ],
   "source": [
    "# Запуск самого парсера\n",
    "get_info2(headers, filename)"
   ]
  },
  {
   "cell_type": "code",
   "execution_count": 38,
   "metadata": {},
   "outputs": [
    {
     "data": {
      "text/html": [
       "<div>\n",
       "<style scoped>\n",
       "    .dataframe tbody tr th:only-of-type {\n",
       "        vertical-align: middle;\n",
       "    }\n",
       "\n",
       "    .dataframe tbody tr th {\n",
       "        vertical-align: top;\n",
       "    }\n",
       "\n",
       "    .dataframe thead th {\n",
       "        text-align: right;\n",
       "    }\n",
       "</style>\n",
       "<table border=\"1\" class=\"dataframe\">\n",
       "  <thead>\n",
       "    <tr style=\"text-align: right;\">\n",
       "      <th></th>\n",
       "      <th>1_title</th>\n",
       "      <th>2_articul</th>\n",
       "      <th>3_price</th>\n",
       "      <th>4_rating</th>\n",
       "      <th>5url</th>\n",
       "      <th>Время работы в режиме ожидания (max)</th>\n",
       "      <th>Время работы в режиме разговора (max)</th>\n",
       "      <th>Дисплей</th>\n",
       "      <th>Объем встроенной памяти</th>\n",
       "      <th>Объем оперативной памяти</th>\n",
       "      <th>Операционная система</th>\n",
       "      <th>Процессор</th>\n",
       "      <th>Разрешение дисплея</th>\n",
       "    </tr>\n",
       "  </thead>\n",
       "  <tbody>\n",
       "    <tr>\n",
       "      <th>0</th>\n",
       "      <td>Смартфон REALME C3 32Gb,  серый</td>\n",
       "      <td>1378921</td>\n",
       "      <td>8690</td>\n",
       "      <td>4.7</td>\n",
       "      <td>https://www.citilink.ru/catalog/mobile/cell_ph...</td>\n",
       "      <td>727.7 ч</td>\n",
       "      <td>43.9 ч</td>\n",
       "      <td>6.5\", LCD</td>\n",
       "      <td>32 ГБ</td>\n",
       "      <td>3 ГБ</td>\n",
       "      <td>Android 10</td>\n",
       "      <td>MediaTek Helio G70, 2000МГц, 8-ми ядерный</td>\n",
       "      <td>1600x720</td>\n",
       "    </tr>\n",
       "    <tr>\n",
       "      <th>1</th>\n",
       "      <td>Смартфон ZTE Blade 20 Smart 128Gb,  черный гранат</td>\n",
       "      <td>1199695</td>\n",
       "      <td>13 490</td>\n",
       "      <td>4.6</td>\n",
       "      <td>https://www.citilink.ru/catalog/mobile/cell_ph...</td>\n",
       "      <td>833 ч</td>\n",
       "      <td>50 ч</td>\n",
       "      <td>6.49\", IPS</td>\n",
       "      <td>128 ГБ</td>\n",
       "      <td>4 ГБ</td>\n",
       "      <td>Android 9.0</td>\n",
       "      <td>MediaTek Helio P60, 2000МГц, 8-ми ядерный</td>\n",
       "      <td>1560x720</td>\n",
       "    </tr>\n",
       "    <tr>\n",
       "      <th>2</th>\n",
       "      <td>Смартфон XIAOMI Poco X3 128Gb,  синий</td>\n",
       "      <td>1426033</td>\n",
       "      <td>19 490</td>\n",
       "      <td>5.0</td>\n",
       "      <td>https://www.citilink.ru/catalog/mobile/cell_ph...</td>\n",
       "      <td>NaN</td>\n",
       "      <td>NaN</td>\n",
       "      <td>6.67\", IPS</td>\n",
       "      <td>128 ГБ</td>\n",
       "      <td>6 ГБ</td>\n",
       "      <td>Android 10</td>\n",
       "      <td>Qualcomm Snapdragon 732G, 2300МГц, 8-ми ядерный</td>\n",
       "      <td>2400x1080</td>\n",
       "    </tr>\n",
       "    <tr>\n",
       "      <th>3</th>\n",
       "      <td>Смартфон XIAOMI Redmi Note 9 Pro 6/128Gb,  зел...</td>\n",
       "      <td>1380942</td>\n",
       "      <td>20 950</td>\n",
       "      <td>4.9</td>\n",
       "      <td>https://www.citilink.ru/catalog/mobile/cell_ph...</td>\n",
       "      <td>NaN</td>\n",
       "      <td>33 ч</td>\n",
       "      <td>6.67\", IPS</td>\n",
       "      <td>128 ГБ</td>\n",
       "      <td>6 ГБ</td>\n",
       "      <td>Android 10.0</td>\n",
       "      <td>Qualcomm Snapdragon 720G, 2300МГц, 8-ми ядерный</td>\n",
       "      <td>2400x1080</td>\n",
       "    </tr>\n",
       "    <tr>\n",
       "      <th>4</th>\n",
       "      <td>Смартфон SAMSUNG Galaxy M21 64Gb,  SM-M215F,  ...</td>\n",
       "      <td>1369917</td>\n",
       "      <td>16 350</td>\n",
       "      <td>4.7</td>\n",
       "      <td>https://www.citilink.ru/catalog/mobile/cell_ph...</td>\n",
       "      <td>NaN</td>\n",
       "      <td>49 ч</td>\n",
       "      <td>6.4\", Super AMOLED</td>\n",
       "      <td>64 ГБ</td>\n",
       "      <td>4 ГБ</td>\n",
       "      <td>Android 10</td>\n",
       "      <td>Exynos 9611, 2300МГц, 8-ми ядерный</td>\n",
       "      <td>2340x1080</td>\n",
       "    </tr>\n",
       "    <tr>\n",
       "      <th>5</th>\n",
       "      <td>Смартфон XIAOMI Redmi Note 9 128Gb,  серый</td>\n",
       "      <td>1385232</td>\n",
       "      <td>15 880</td>\n",
       "      <td>4.7</td>\n",
       "      <td>https://www.citilink.ru/catalog/mobile/cell_ph...</td>\n",
       "      <td>NaN</td>\n",
       "      <td>NaN</td>\n",
       "      <td>6.53\", IPS</td>\n",
       "      <td>128 ГБ</td>\n",
       "      <td>4 ГБ</td>\n",
       "      <td>Android 10</td>\n",
       "      <td>Mediatek Helio G85, 2000МГц, 8-ми ядерный</td>\n",
       "      <td>2340x1080</td>\n",
       "    </tr>\n",
       "    <tr>\n",
       "      <th>6</th>\n",
       "      <td>Смартфон HUAWEI Y6P 64Gb,  черный</td>\n",
       "      <td>1380404</td>\n",
       "      <td>10 490</td>\n",
       "      <td>4.9</td>\n",
       "      <td>https://www.citilink.ru/catalog/mobile/cell_ph...</td>\n",
       "      <td>NaN</td>\n",
       "      <td>NaN</td>\n",
       "      <td>6.3\", IPS</td>\n",
       "      <td>64 ГБ</td>\n",
       "      <td>3 ГБ</td>\n",
       "      <td>Android 10 HMS</td>\n",
       "      <td>MediaTek Helio P22, 2000МГц, 8-ми ядерный</td>\n",
       "      <td>1600x720</td>\n",
       "    </tr>\n",
       "    <tr>\n",
       "      <th>7</th>\n",
       "      <td>Смартфон SAMSUNG Galaxy A71 128Gb,  SM-A715F, ...</td>\n",
       "      <td>1211946</td>\n",
       "      <td>28 710</td>\n",
       "      <td>4.1</td>\n",
       "      <td>https://www.citilink.ru/catalog/mobile/cell_ph...</td>\n",
       "      <td>NaN</td>\n",
       "      <td>42 ч</td>\n",
       "      <td>6.7\", Super AMOLED</td>\n",
       "      <td>128 ГБ</td>\n",
       "      <td>6 ГБ</td>\n",
       "      <td>Android 10</td>\n",
       "      <td>Qualcomm Snapdragon 730, 2200МГц, 8-ми ядерный</td>\n",
       "      <td>2400x1080</td>\n",
       "    </tr>\n",
       "    <tr>\n",
       "      <th>8</th>\n",
       "      <td>Смартфон XIAOMI Redmi Note 9 Pro 6/128Gb,  белый</td>\n",
       "      <td>1380952</td>\n",
       "      <td>20 950</td>\n",
       "      <td>4.7</td>\n",
       "      <td>https://www.citilink.ru/catalog/mobile/cell_ph...</td>\n",
       "      <td>NaN</td>\n",
       "      <td>33 ч</td>\n",
       "      <td>6.67\", IPS</td>\n",
       "      <td>128 ГБ</td>\n",
       "      <td>6 ГБ</td>\n",
       "      <td>Android 10.0</td>\n",
       "      <td>Qualcomm Snapdragon 720G, 2300МГц, 8-ми ядерный</td>\n",
       "      <td>2400x1080</td>\n",
       "    </tr>\n",
       "    <tr>\n",
       "      <th>9</th>\n",
       "      <td>Смартфон HONOR 9X 128Gb,  черный</td>\n",
       "      <td>1189767</td>\n",
       "      <td>14 790</td>\n",
       "      <td>4.9</td>\n",
       "      <td>https://www.citilink.ru/catalog/mobile/cell_ph...</td>\n",
       "      <td>711 ч</td>\n",
       "      <td>28 ч</td>\n",
       "      <td>6.59\", LTPS</td>\n",
       "      <td>128 ГБ</td>\n",
       "      <td>4 ГБ</td>\n",
       "      <td>Android 9.0</td>\n",
       "      <td>Hisilicon Kirin 710F, 2200МГц, 8-ми ядерный</td>\n",
       "      <td>2340x1080</td>\n",
       "    </tr>\n",
       "  </tbody>\n",
       "</table>\n",
       "</div>"
      ],
      "text/plain": [
       "                                             1_title  2_articul 3_price  \\\n",
       "0                    Смартфон REALME C3 32Gb,  серый    1378921    8690   \n",
       "1  Смартфон ZTE Blade 20 Smart 128Gb,  черный гранат    1199695  13 490   \n",
       "2              Смартфон XIAOMI Poco X3 128Gb,  синий    1426033  19 490   \n",
       "3  Смартфон XIAOMI Redmi Note 9 Pro 6/128Gb,  зел...    1380942  20 950   \n",
       "4  Смартфон SAMSUNG Galaxy M21 64Gb,  SM-M215F,  ...    1369917  16 350   \n",
       "5         Смартфон XIAOMI Redmi Note 9 128Gb,  серый    1385232  15 880   \n",
       "6                  Смартфон HUAWEI Y6P 64Gb,  черный    1380404  10 490   \n",
       "7  Смартфон SAMSUNG Galaxy A71 128Gb,  SM-A715F, ...    1211946  28 710   \n",
       "8   Смартфон XIAOMI Redmi Note 9 Pro 6/128Gb,  белый    1380952  20 950   \n",
       "9                   Смартфон HONOR 9X 128Gb,  черный    1189767  14 790   \n",
       "\n",
       "   4_rating                                               5url  \\\n",
       "0       4.7  https://www.citilink.ru/catalog/mobile/cell_ph...   \n",
       "1       4.6  https://www.citilink.ru/catalog/mobile/cell_ph...   \n",
       "2       5.0  https://www.citilink.ru/catalog/mobile/cell_ph...   \n",
       "3       4.9  https://www.citilink.ru/catalog/mobile/cell_ph...   \n",
       "4       4.7  https://www.citilink.ru/catalog/mobile/cell_ph...   \n",
       "5       4.7  https://www.citilink.ru/catalog/mobile/cell_ph...   \n",
       "6       4.9  https://www.citilink.ru/catalog/mobile/cell_ph...   \n",
       "7       4.1  https://www.citilink.ru/catalog/mobile/cell_ph...   \n",
       "8       4.7  https://www.citilink.ru/catalog/mobile/cell_ph...   \n",
       "9       4.9  https://www.citilink.ru/catalog/mobile/cell_ph...   \n",
       "\n",
       "  Время работы в режиме ожидания (max) Время работы в режиме разговора (max)  \\\n",
       "0                              727.7 ч                                43.9 ч   \n",
       "1                                833 ч                                  50 ч   \n",
       "2                                  NaN                                   NaN   \n",
       "3                                  NaN                                  33 ч   \n",
       "4                                  NaN                                  49 ч   \n",
       "5                                  NaN                                   NaN   \n",
       "6                                  NaN                                   NaN   \n",
       "7                                  NaN                                  42 ч   \n",
       "8                                  NaN                                  33 ч   \n",
       "9                                711 ч                                  28 ч   \n",
       "\n",
       "              Дисплей Объем встроенной памяти Объем оперативной памяти  \\\n",
       "0           6.5\", LCD                   32 ГБ                     3 ГБ   \n",
       "1          6.49\", IPS                  128 ГБ                     4 ГБ   \n",
       "2          6.67\", IPS                  128 ГБ                     6 ГБ   \n",
       "3          6.67\", IPS                  128 ГБ                     6 ГБ   \n",
       "4  6.4\", Super AMOLED                   64 ГБ                     4 ГБ   \n",
       "5          6.53\", IPS                  128 ГБ                     4 ГБ   \n",
       "6           6.3\", IPS                   64 ГБ                     3 ГБ   \n",
       "7  6.7\", Super AMOLED                  128 ГБ                     6 ГБ   \n",
       "8          6.67\", IPS                  128 ГБ                     6 ГБ   \n",
       "9         6.59\", LTPS                  128 ГБ                     4 ГБ   \n",
       "\n",
       "  Операционная система                                        Процессор  \\\n",
       "0           Android 10        MediaTek Helio G70, 2000МГц, 8-ми ядерный   \n",
       "1          Android 9.0        MediaTek Helio P60, 2000МГц, 8-ми ядерный   \n",
       "2           Android 10  Qualcomm Snapdragon 732G, 2300МГц, 8-ми ядерный   \n",
       "3         Android 10.0  Qualcomm Snapdragon 720G, 2300МГц, 8-ми ядерный   \n",
       "4           Android 10               Exynos 9611, 2300МГц, 8-ми ядерный   \n",
       "5           Android 10        Mediatek Helio G85, 2000МГц, 8-ми ядерный   \n",
       "6       Android 10 HMS        MediaTek Helio P22, 2000МГц, 8-ми ядерный   \n",
       "7           Android 10   Qualcomm Snapdragon 730, 2200МГц, 8-ми ядерный   \n",
       "8         Android 10.0  Qualcomm Snapdragon 720G, 2300МГц, 8-ми ядерный   \n",
       "9          Android 9.0      Hisilicon Kirin 710F, 2200МГц, 8-ми ядерный   \n",
       "\n",
       "  Разрешение дисплея  \n",
       "0           1600x720  \n",
       "1           1560x720  \n",
       "2          2400x1080  \n",
       "3          2400x1080  \n",
       "4          2340x1080  \n",
       "5          2340x1080  \n",
       "6           1600x720  \n",
       "7          2400x1080  \n",
       "8          2400x1080  \n",
       "9          2340x1080  "
      ]
     },
     "execution_count": 38,
     "metadata": {},
     "output_type": "execute_result"
    }
   ],
   "source": [
    "import pandas as pd\n",
    "df=pd.read_csv('products.csv', encoding='utf-8')\n",
    "df.sort_index(inplace=True, axis=1)\n",
    "df.head(10)"
   ]
  },
  {
   "cell_type": "code",
   "execution_count": null,
   "metadata": {},
   "outputs": [],
   "source": []
  }
 ],
 "metadata": {
  "kernelspec": {
   "display_name": "Python 3",
   "language": "python",
   "name": "python3"
  },
  "language_info": {
   "codemirror_mode": {
    "name": "ipython",
    "version": 3
   },
   "file_extension": ".py",
   "mimetype": "text/x-python",
   "name": "python",
   "nbconvert_exporter": "python",
   "pygments_lexer": "ipython3",
   "version": "3.8.5"
  }
 },
 "nbformat": 4,
 "nbformat_minor": 4
}
