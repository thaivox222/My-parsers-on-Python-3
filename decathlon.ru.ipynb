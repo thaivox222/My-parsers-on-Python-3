{
 "cells": [
  {
   "cell_type": "code",
   "execution_count": 25,
   "metadata": {},
   "outputs": [],
   "source": [
    "#начинаем с импорта библиотек\n",
    "import requests\n",
    "from requests.auth import HTTPProxyAuth # для проксей\n",
    "from  bs4 import BeautifulSoup as bs\n",
    "import csv\n",
    "from urllib.request import urljoin\n",
    "from tqdm.notebook import tqdm\n",
    "from collections import deque\n",
    "import pandas as pd\n",
    "from datetime import datetime\n",
    "import math"
   ]
  },
  {
   "cell_type": "code",
   "execution_count": 2,
   "metadata": {},
   "outputs": [],
   "source": [
    "# Задаем глобальные параметры\n",
    "headers = {'accept': '*/*',\n",
    "           'User-Agent': 'Mozilla/5.0 (Windows NT 6.3; Win64; x64) AppleWebKit/537.36 (KHTML, like Gecko) Chrome/87.0.4280.66 Safari/537.36'\n",
    "          }\n",
    "domen = 'https://www.decathlon.ru'\n",
    "url='https://www.decathlon.ru/C-109639-sport-ot-a-do-ja'\n",
    "file_product_links = 'decathlon_product_links.csv'\n",
    "file_products = 'decathlon_products.csv'"
   ]
  },
  {
   "cell_type": "code",
   "execution_count": 3,
   "metadata": {},
   "outputs": [],
   "source": [
    "# Функция сбора ссылок на основные продуктовые категории\n",
    "def get_category_links(headers, domen, url):\n",
    "    session = requests.Session()\n",
    "    r = session.get(url, headers=headers)\n",
    "    soup = bs(r.text, 'lxml')\n",
    "    links = []\n",
    "    cat_links=[]\n",
    "    urls = set()\n",
    "    ul = soup.find('div', class_='alphabet_recherche').find_all('a', href=True)\n",
    "    for u in ul:\n",
    "        urls.add(u['href'])\n",
    "    for i in urls:\n",
    "        link  = urljoin(domen,i)\n",
    "        links.append(link)\n",
    "    return links"
   ]
  },
  {
   "cell_type": "code",
   "execution_count": 37,
   "metadata": {},
   "outputs": [],
   "source": [
    "#  блок сбора урлов пагинации\n",
    "def get_pagination(url, headers):\n",
    "    session = requests.Session()\n",
    "    r = session.get(url, headers=headers)\n",
    "    pagi=[]\n",
    "    pagi.append(url)\n",
    "    if r.status_code == 200:\n",
    "        soup = bs(r.content, 'lxml')\n",
    "        ppage = soup.find('span', class_='filter-results-number').text\n",
    "        num=math.ceil(int(ppage)/40)\n",
    "        for i in range(2,num+1):\n",
    "            u = str(url)+f'#page{i}'\n",
    "            pagi.append(u)\n",
    "    return pagi"
   ]
  },
  {
   "cell_type": "code",
   "execution_count": 125,
   "metadata": {},
   "outputs": [],
   "source": [
    "# Фуекция сбора инфы с грида \n",
    "def get_all_params(grid_links, headers, domen):\n",
    "    params={}\n",
    "    params['title']=[]\n",
    "    params['price']=[]\n",
    "    params['item_url']=[]\n",
    "    params['item_img']=[]\n",
    "    params['brand']=[]\n",
    "    params['num_otzyv']=[]\n",
    "    for i in tqdm(grid_links, desc='Getting info from grid', leave=False):\n",
    "        display(i)\n",
    "        session = requests.Session()\n",
    "        r = session.get(i, headers=headers)\n",
    "        soup = bs(r.text, 'lxml')\n",
    "        li = soup.find_all('li', class_='new-product-thumbnail desktop')\n",
    "        for i in li:\n",
    "            title = i.find('h3', class_='product-label').text\n",
    "            price = i.find('div', class_='price').text.strip().replace('\\xa0','')\n",
    "            link = domen+str(i.find('a', href=True)['href'])\n",
    "            brand = i.find('p', class_='product-brand').text\n",
    "            img = i.find('img', attrs={'data-src':True})['data-src']\n",
    "            try:\n",
    "                otzyv = i.find('div', class_='product-rating-number').text.strip()\n",
    "            except AttributeError:\n",
    "                pass\n",
    "            params['title'].append(title)\n",
    "            params['price'].append(price)\n",
    "            params['item_url'].append(link)\n",
    "            params['item_img'].append(img)\n",
    "            params['brand'].append(brand)\n",
    "            params['num_otzyv'].append(otzyv) \n",
    "    return params   "
   ]
  },
  {
   "cell_type": "markdown",
   "metadata": {},
   "source": [
    "Запускаем весь парсер"
   ]
  },
  {
   "cell_type": "code",
   "execution_count": 129,
   "metadata": {},
   "outputs": [
    {
     "data": {
      "application/vnd.jupyter.widget-view+json": {
       "model_id": "",
       "version_major": 2,
       "version_minor": 0
      },
      "text/plain": [
       "HBox(children=(HTML(value='Getting info from grid'), FloatProgress(value=0.0, max=18.0), HTML(value='')))"
      ]
     },
     "metadata": {},
     "output_type": "display_data"
    },
    {
     "data": {
      "text/plain": [
       "'https://www.decathlon.ru/C-257793-sportivnaya-gimnastica'"
      ]
     },
     "metadata": {},
     "output_type": "display_data"
    },
    {
     "data": {
      "text/plain": [
       "'https://www.decathlon.ru/C-257793-sportivnaya-gimnastica#page2'"
      ]
     },
     "metadata": {},
     "output_type": "display_data"
    },
    {
     "data": {
      "text/plain": [
       "'https://www.decathlon.ru/C-96730-tancy-i-gimnastika'"
      ]
     },
     "metadata": {},
     "output_type": "display_data"
    },
    {
     "data": {
      "text/plain": [
       "'https://www.decathlon.ru/C-96730-tancy-i-gimnastika#page2'"
      ]
     },
     "metadata": {},
     "output_type": "display_data"
    },
    {
     "data": {
      "text/plain": [
       "'https://www.decathlon.ru/C-96730-tancy-i-gimnastika#page3'"
      ]
     },
     "metadata": {},
     "output_type": "display_data"
    },
    {
     "data": {
      "text/plain": [
       "'https://www.decathlon.ru/C-96758-beg'"
      ]
     },
     "metadata": {},
     "output_type": "display_data"
    },
    {
     "data": {
      "text/plain": [
       "'https://www.decathlon.ru/C-96758-beg#page2'"
      ]
     },
     "metadata": {},
     "output_type": "display_data"
    },
    {
     "data": {
      "text/plain": [
       "'https://www.decathlon.ru/C-96758-beg#page3'"
      ]
     },
     "metadata": {},
     "output_type": "display_data"
    },
    {
     "data": {
      "text/plain": [
       "'https://www.decathlon.ru/C-96758-beg#page4'"
      ]
     },
     "metadata": {},
     "output_type": "display_data"
    },
    {
     "data": {
      "text/plain": [
       "'https://www.decathlon.ru/C-96758-beg#page5'"
      ]
     },
     "metadata": {},
     "output_type": "display_data"
    },
    {
     "data": {
      "text/plain": [
       "'https://www.decathlon.ru/C-96758-beg#page6'"
      ]
     },
     "metadata": {},
     "output_type": "display_data"
    },
    {
     "data": {
      "text/plain": [
       "'https://www.decathlon.ru/C-96758-beg#page7'"
      ]
     },
     "metadata": {},
     "output_type": "display_data"
    },
    {
     "data": {
      "text/plain": [
       "'https://www.decathlon.ru/C-96758-beg#page8'"
      ]
     },
     "metadata": {},
     "output_type": "display_data"
    },
    {
     "data": {
      "text/plain": [
       "'https://www.decathlon.ru/C-96758-beg#page9'"
      ]
     },
     "metadata": {},
     "output_type": "display_data"
    },
    {
     "data": {
      "text/plain": [
       "'https://www.decathlon.ru/C-96758-beg#page10'"
      ]
     },
     "metadata": {},
     "output_type": "display_data"
    },
    {
     "data": {
      "text/plain": [
       "'https://www.decathlon.ru/C-96758-beg#page11'"
      ]
     },
     "metadata": {},
     "output_type": "display_data"
    },
    {
     "data": {
      "text/plain": [
       "'https://www.decathlon.ru/C-96758-beg#page12'"
      ]
     },
     "metadata": {},
     "output_type": "display_data"
    },
    {
     "data": {
      "text/plain": [
       "'https://www.decathlon.ru/C-96758-beg#page13'"
      ]
     },
     "metadata": {},
     "output_type": "display_data"
    }
   ],
   "source": [
    "#Собираем список категорий\n",
    "cl=get_category_links(headers, domen, url)\n",
    "#Запускаем пагинатор\n",
    "temp_list = []\n",
    "for i in catlist:\n",
    "    dl = get_pagination(i, headers)\n",
    "    temp_list.append(dl)\n",
    "#выпрямляем список пагинационных урлов    \n",
    "grid_links = []\n",
    "for sublist in temp_list:\n",
    "    for item in sublist:\n",
    "        grid_links.append(item)\n",
    "# Запуск парсера\n",
    "pl = get_all_params(grid_links, headers, domen)"
   ]
  },
  {
   "cell_type": "code",
   "execution_count": 127,
   "metadata": {},
   "outputs": [
    {
     "data": {
      "text/html": [
       "<div>\n",
       "<style scoped>\n",
       "    .dataframe tbody tr th:only-of-type {\n",
       "        vertical-align: middle;\n",
       "    }\n",
       "\n",
       "    .dataframe tbody tr th {\n",
       "        vertical-align: top;\n",
       "    }\n",
       "\n",
       "    .dataframe thead th {\n",
       "        text-align: right;\n",
       "    }\n",
       "</style>\n",
       "<table border=\"1\" class=\"dataframe\">\n",
       "  <thead>\n",
       "    <tr style=\"text-align: right;\">\n",
       "      <th></th>\n",
       "      <th>title</th>\n",
       "      <th>price</th>\n",
       "      <th>item_url</th>\n",
       "      <th>item_img</th>\n",
       "      <th>brand</th>\n",
       "      <th>num_otzyv</th>\n",
       "    </tr>\n",
       "  </thead>\n",
       "  <tbody>\n",
       "    <tr>\n",
       "      <th>643</th>\n",
       "      <td>ПОВЯЗКА ДЛЯ БЕГА УНИВЕРСАЛЬНАЯ С ПРИНТОМ СЕРАЯ</td>\n",
       "      <td>299руб.</td>\n",
       "      <td>https://www.decathlon.ru/povzka-universalna-se...</td>\n",
       "      <td>https://contents.mediadecathlon.com/p1807609/k...</td>\n",
       "      <td>KALENJI</td>\n",
       "      <td>(4028)</td>\n",
       "    </tr>\n",
       "    <tr>\n",
       "      <th>56</th>\n",
       "      <td>Леггинсы для художественной гимнастики женские...</td>\n",
       "      <td>699руб.</td>\n",
       "      <td>https://www.decathlon.ru/legginsy-d-hud-gimn-z...</td>\n",
       "      <td>https://contents.mediadecathlon.com/p1684847/k...</td>\n",
       "      <td>DOMYOS</td>\n",
       "      <td>(200)</td>\n",
       "    </tr>\n",
       "    <tr>\n",
       "      <th>307</th>\n",
       "      <td>КУРТКА НЕПРОМОКАЕМАЯ ДЛЯ ТРЕЙЛРАННИНГА МУЖСКАЯ...</td>\n",
       "      <td>4999руб.</td>\n",
       "      <td>https://www.decathlon.ru/kurtka-trejl-muzhska-...</td>\n",
       "      <td>https://contents.mediadecathlon.com/p1762401/k...</td>\n",
       "      <td>EVADICT</td>\n",
       "      <td>(791)</td>\n",
       "    </tr>\n",
       "    <tr>\n",
       "      <th>73</th>\n",
       "      <td>Купальник с длинными рукавами для художественн...</td>\n",
       "      <td>2499руб.</td>\n",
       "      <td>https://www.decathlon.ru/kupalnik-900-zhen-sin...</td>\n",
       "      <td>https://contents.mediadecathlon.com/p1712258/k...</td>\n",
       "      <td>DOMYOS</td>\n",
       "      <td>(71)</td>\n",
       "    </tr>\n",
       "    <tr>\n",
       "      <th>64</th>\n",
       "      <td>НОСКИ ДЛЯ ИГРЫ В БОЛЬШОЙ ТЕННИС С ВЫСОКОЙ МАНЖ...</td>\n",
       "      <td>79руб.</td>\n",
       "      <td>https://www.decathlon.ru/noski-vysokie-rs-130-...</td>\n",
       "      <td>https://contents.mediadecathlon.com/p1841848/k...</td>\n",
       "      <td>ARTENGO</td>\n",
       "      <td>(29)</td>\n",
       "    </tr>\n",
       "    <tr>\n",
       "      <th>448</th>\n",
       "      <td>УТЕПЛЕННЫЕ БРЮКИ ДЛЯ БЕГА ЖЕНСКИЕ RUN WARM ЧЕРНЫЕ</td>\n",
       "      <td>1499руб.</td>\n",
       "      <td>https://www.decathlon.ru/tepl-brjuki-run-warm-...</td>\n",
       "      <td>https://contents.mediadecathlon.com/p1932757/k...</td>\n",
       "      <td>KALENJI</td>\n",
       "      <td>(64)</td>\n",
       "    </tr>\n",
       "    <tr>\n",
       "      <th>190</th>\n",
       "      <td>Шорты для современных танцев облегающие детские</td>\n",
       "      <td>399руб.</td>\n",
       "      <td>https://www.decathlon.ru/shorty-det-chernye-id...</td>\n",
       "      <td>https://contents.mediadecathlon.com/p1704397/k...</td>\n",
       "      <td>DOMYOS</td>\n",
       "      <td>(476)</td>\n",
       "    </tr>\n",
       "    <tr>\n",
       "      <th>30</th>\n",
       "      <td>НАКЛАДКИ ДЛЯ ХУДОЖЕСТВЕННОЙ ГИМНАСТИКИ НА ПЕРЕ...</td>\n",
       "      <td>1699руб.</td>\n",
       "      <td>https://www.decathlon.ru/nakladki-gammbf-900-i...</td>\n",
       "      <td>https://contents.mediadecathlon.com/p1560851/k...</td>\n",
       "      <td>DOMYOS</td>\n",
       "      <td>(12)</td>\n",
       "    </tr>\n",
       "    <tr>\n",
       "      <th>333</th>\n",
       "      <td>ГОЛЬФЫ ТОНКИЕ ВЫСОКИЕ ИЗ ШЕРСТИ МЕРИНОСА ДЛЯ Б...</td>\n",
       "      <td>799руб.</td>\n",
       "      <td>https://www.decathlon.ru/golfy-utepln-vysokie-...</td>\n",
       "      <td>https://contents.mediadecathlon.com/p1961541/k...</td>\n",
       "      <td>KIPRUN</td>\n",
       "      <td>(242)</td>\n",
       "    </tr>\n",
       "    <tr>\n",
       "      <th>616</th>\n",
       "      <td>ДЛИННЫЕ ТАЙТСЫ ДЛЯ БЕГА KIPRUN WARM МУЖСКИЕ</td>\n",
       "      <td>2499руб.</td>\n",
       "      <td>https://www.decathlon.ru/dlin-tajtsy-kiprun-wa...</td>\n",
       "      <td>https://contents.mediadecathlon.com/p1886339/k...</td>\n",
       "      <td>KIPRUN</td>\n",
       "      <td>(155)</td>\n",
       "    </tr>\n",
       "    <tr>\n",
       "      <th>131</th>\n",
       "      <td>Купальник для классического танца из двух видо...</td>\n",
       "      <td>899руб.</td>\n",
       "      <td>https://www.decathlon.ru/kupalnik-dl-klas-tant...</td>\n",
       "      <td>https://contents.mediadecathlon.com/p1883522/k...</td>\n",
       "      <td>DOMYOS</td>\n",
       "      <td>(881)</td>\n",
       "    </tr>\n",
       "    <tr>\n",
       "      <th>58</th>\n",
       "      <td>Футболка с коротким рукавом для мальчиков 100 ...</td>\n",
       "      <td>199руб.</td>\n",
       "      <td>https://www.decathlon.ru/futbolka-100-mal-spor...</td>\n",
       "      <td>https://contents.mediadecathlon.com/p1777040/k...</td>\n",
       "      <td>DOMYOS</td>\n",
       "      <td>(790)</td>\n",
       "    </tr>\n",
       "    <tr>\n",
       "      <th>313</th>\n",
       "      <td>ТЕПЛАЯ ШАПКА ДЛЯ БЕГА RUN WARM +</td>\n",
       "      <td>499руб.</td>\n",
       "      <td>https://www.decathlon.ru/shapka-tepla-run-warm...</td>\n",
       "      <td>https://contents.mediadecathlon.com/p1932668/k...</td>\n",
       "      <td>KALENJI</td>\n",
       "      <td>(1134)</td>\n",
       "    </tr>\n",
       "    <tr>\n",
       "      <th>561</th>\n",
       "      <td>ШАПКА ДЛЯ БЕГА ЧЕРНАЯ</td>\n",
       "      <td>399руб.</td>\n",
       "      <td>https://www.decathlon.ru/shapka-dl-bega--id_83...</td>\n",
       "      <td>https://contents.mediadecathlon.com/p1007226/k...</td>\n",
       "      <td>KALENJI</td>\n",
       "      <td>(2206)</td>\n",
       "    </tr>\n",
       "    <tr>\n",
       "      <th>353</th>\n",
       "      <td>ТЕПЛАЯ ШАПКА ДЛЯ БЕГА RUN WARM +</td>\n",
       "      <td>499руб.</td>\n",
       "      <td>https://www.decathlon.ru/shapka-tepla-run-warm...</td>\n",
       "      <td>https://contents.mediadecathlon.com/p1932668/k...</td>\n",
       "      <td>KALENJI</td>\n",
       "      <td>(1134)</td>\n",
       "    </tr>\n",
       "    <tr>\n",
       "      <th>49</th>\n",
       "      <td>Легинсы для мальчиков</td>\n",
       "      <td>899руб.</td>\n",
       "      <td>https://www.decathlon.ru/leginsy-gamsk-500-h-f...</td>\n",
       "      <td>https://contents.mediadecathlon.com/p1661336/k...</td>\n",
       "      <td>DOMYOS</td>\n",
       "      <td>(23)</td>\n",
       "    </tr>\n",
       "    <tr>\n",
       "      <th>97</th>\n",
       "      <td>Купальник для классического танца из двух видо...</td>\n",
       "      <td>899руб.</td>\n",
       "      <td>https://www.decathlon.ru/kupalnik-dl-klas-tant...</td>\n",
       "      <td>https://contents.mediadecathlon.com/p1701127/k...</td>\n",
       "      <td>DOMYOS</td>\n",
       "      <td>(881)</td>\n",
       "    </tr>\n",
       "    <tr>\n",
       "      <th>491</th>\n",
       "      <td>ТЕПЛЫЕ ДЛИННЫЕ ТАЙТСЫ ДЛЯ БЕГА RUN WARM+ МУЖСКИЕ</td>\n",
       "      <td>1499руб.</td>\n",
       "      <td>https://www.decathlon.ru/teplye-tajtsy-run-war...</td>\n",
       "      <td>https://contents.mediadecathlon.com/p1893261/k...</td>\n",
       "      <td>KALENJI</td>\n",
       "      <td>(959)</td>\n",
       "    </tr>\n",
       "    <tr>\n",
       "      <th>52</th>\n",
       "      <td>Полупуанты</td>\n",
       "      <td>299руб.</td>\n",
       "      <td>https://www.decathlon.ru/polupuanty-id_8542921...</td>\n",
       "      <td>https://contents.mediadecathlon.com/p1751250/k...</td>\n",
       "      <td>DOMYOS</td>\n",
       "      <td>(1)</td>\n",
       "    </tr>\n",
       "    <tr>\n",
       "      <th>644</th>\n",
       "      <td>КУРТКА ДЛЯ БЕГА RUN WARM+ С КАРМАНОМ ДЛЯ СМАРТ...</td>\n",
       "      <td>2499руб.</td>\n",
       "      <td>https://www.decathlon.ru/kurtka-beg-run-warm-m...</td>\n",
       "      <td>https://contents.mediadecathlon.com/p1914370/k...</td>\n",
       "      <td>KALENJI</td>\n",
       "      <td>(2077)</td>\n",
       "    </tr>\n",
       "    <tr>\n",
       "      <th>121</th>\n",
       "      <td>Топ для дэнс-фитнеса женский красный с принтом</td>\n",
       "      <td>999руб.</td>\n",
       "      <td>https://www.decathlon.ru/top-dl-djens-fitnesa-...</td>\n",
       "      <td>https://contents.mediadecathlon.com/p1883594/k...</td>\n",
       "      <td>STAREVER</td>\n",
       "      <td>(42)</td>\n",
       "    </tr>\n",
       "    <tr>\n",
       "      <th>702</th>\n",
       "      <td>Пульсометр нагрудный для бега DUAL ANT+/Blueto...</td>\n",
       "      <td>2999руб.</td>\n",
       "      <td>https://www.decathlon.ru/pulsometr-antbluetoot...</td>\n",
       "      <td>https://contents.mediadecathlon.com/p1943124/k...</td>\n",
       "      <td>KALENJI</td>\n",
       "      <td>(3456)</td>\n",
       "    </tr>\n",
       "    <tr>\n",
       "      <th>300</th>\n",
       "      <td>Детские кроссовки на липучках для легкой атлет...</td>\n",
       "      <td>799руб.</td>\n",
       "      <td>https://www.decathlon.ru/krossovki-run-support...</td>\n",
       "      <td>https://contents.mediadecathlon.com/p1780482/k...</td>\n",
       "      <td>KALENJI</td>\n",
       "      <td>(1734)</td>\n",
       "    </tr>\n",
       "    <tr>\n",
       "      <th>629</th>\n",
       "      <td>Ветровка мужская</td>\n",
       "      <td>2999руб.</td>\n",
       "      <td>https://www.decathlon.ru/vetrovka-muzhska-id_8...</td>\n",
       "      <td>https://contents.mediadecathlon.com/p1777655/k...</td>\n",
       "      <td>EVADICT</td>\n",
       "      <td>(791)</td>\n",
       "    </tr>\n",
       "    <tr>\n",
       "      <th>574</th>\n",
       "      <td>КУРТКА ДЛЯ БЕГА KIPRUN WARM ЖЕНСКАЯ</td>\n",
       "      <td>2999руб.</td>\n",
       "      <td>https://www.decathlon.ru/kurtka-kiprun-warm-zh...</td>\n",
       "      <td>https://contents.mediadecathlon.com/p1886010/k...</td>\n",
       "      <td>KIPRUN</td>\n",
       "      <td>(211)</td>\n",
       "    </tr>\n",
       "    <tr>\n",
       "      <th>381</th>\n",
       "      <td>Детские кроссовки на шнурках для легкой атлети...</td>\n",
       "      <td>799руб.</td>\n",
       "      <td>https://www.decathlon.ru/krossovki-run-support...</td>\n",
       "      <td>https://contents.mediadecathlon.com/p1780608/k...</td>\n",
       "      <td>KALENJI</td>\n",
       "      <td>(1280)</td>\n",
       "    </tr>\n",
       "    <tr>\n",
       "      <th>144</th>\n",
       "      <td>Юбка–вуаль для классического танца детская бле...</td>\n",
       "      <td>399руб.</td>\n",
       "      <td>https://www.decathlon.ru/jubka-100-tants-id_83...</td>\n",
       "      <td>https://contents.mediadecathlon.com/p1701060/k...</td>\n",
       "      <td>STAREVER</td>\n",
       "      <td>(629)</td>\n",
       "    </tr>\n",
       "    <tr>\n",
       "      <th>542</th>\n",
       "      <td>Пульсометр нагрудный для бега DUAL ANT+/Blueto...</td>\n",
       "      <td>2999руб.</td>\n",
       "      <td>https://www.decathlon.ru/pulsometr-antbluetoot...</td>\n",
       "      <td>https://contents.mediadecathlon.com/p1943124/k...</td>\n",
       "      <td>KALENJI</td>\n",
       "      <td>(3456)</td>\n",
       "    </tr>\n",
       "    <tr>\n",
       "      <th>653</th>\n",
       "      <td>ГОЛЬФЫ ТОНКИЕ ВЫСОКИЕ ИЗ ШЕРСТИ МЕРИНОСА ДЛЯ Б...</td>\n",
       "      <td>799руб.</td>\n",
       "      <td>https://www.decathlon.ru/golfy-utepln-vysokie-...</td>\n",
       "      <td>https://contents.mediadecathlon.com/p1961541/k...</td>\n",
       "      <td>KIPRUN</td>\n",
       "      <td>(242)</td>\n",
       "    </tr>\n",
       "    <tr>\n",
       "      <th>540</th>\n",
       "      <td>Детские кроссовки на липучках для легкой атлет...</td>\n",
       "      <td>799руб.</td>\n",
       "      <td>https://www.decathlon.ru/krossovki-run-support...</td>\n",
       "      <td>https://contents.mediadecathlon.com/p1780482/k...</td>\n",
       "      <td>KALENJI</td>\n",
       "      <td>(1734)</td>\n",
       "    </tr>\n",
       "    <tr>\n",
       "      <th>0</th>\n",
       "      <td>Леотард гимнастический мужской синий</td>\n",
       "      <td>999руб.</td>\n",
       "      <td>https://www.decathlon.ru/leotard-gaml-500-id_9...</td>\n",
       "      <td>https://contents.mediadecathlon.com/p1905883/k...</td>\n",
       "      <td>DOMYOS</td>\n",
       "      <td>(38)</td>\n",
       "    </tr>\n",
       "    <tr>\n",
       "      <th>65</th>\n",
       "      <td>Носки Artengo rs 130</td>\n",
       "      <td>79руб.</td>\n",
       "      <td>https://www.decathlon.ru/noski-artengo-rs-130-...</td>\n",
       "      <td>https://contents.mediadecathlon.com/p1033745/k...</td>\n",
       "      <td>ARTENGO</td>\n",
       "      <td>(39)</td>\n",
       "    </tr>\n",
       "    <tr>\n",
       "      <th>138</th>\n",
       "      <td>Купальник для классического танца из двух видо...</td>\n",
       "      <td>899руб.</td>\n",
       "      <td>https://www.decathlon.ru/kupaln-dl-klas-tantsa...</td>\n",
       "      <td>https://contents.mediadecathlon.com/p1700999/k...</td>\n",
       "      <td>DOMYOS</td>\n",
       "      <td>(881)</td>\n",
       "    </tr>\n",
       "    <tr>\n",
       "      <th>281</th>\n",
       "      <td>ШАПКА ДЛЯ БЕГА ЧЕРНАЯ</td>\n",
       "      <td>399руб.</td>\n",
       "      <td>https://www.decathlon.ru/shapka-dl-bega--id_83...</td>\n",
       "      <td>https://contents.mediadecathlon.com/p1007226/k...</td>\n",
       "      <td>KALENJI</td>\n",
       "      <td>(2206)</td>\n",
       "    </tr>\n",
       "    <tr>\n",
       "      <th>543</th>\n",
       "      <td>КРОССОВКИ ДЛЯ БЕГА МУЖСКИЕ RUN 100 СЕРЫЕ</td>\n",
       "      <td>999руб.</td>\n",
       "      <td>https://www.decathlon.ru/krossovki-muzh-run-10...</td>\n",
       "      <td>https://contents.mediadecathlon.com/p207648/ke...</td>\n",
       "      <td>KALENJI</td>\n",
       "      <td>(8485)</td>\n",
       "    </tr>\n",
       "  </tbody>\n",
       "</table>\n",
       "</div>"
      ],
      "text/plain": [
       "                                                 title     price  \\\n",
       "643     ПОВЯЗКА ДЛЯ БЕГА УНИВЕРСАЛЬНАЯ С ПРИНТОМ СЕРАЯ   299руб.   \n",
       "56   Леггинсы для художественной гимнастики женские...   699руб.   \n",
       "307  КУРТКА НЕПРОМОКАЕМАЯ ДЛЯ ТРЕЙЛРАННИНГА МУЖСКАЯ...  4999руб.   \n",
       "73   Купальник с длинными рукавами для художественн...  2499руб.   \n",
       "64   НОСКИ ДЛЯ ИГРЫ В БОЛЬШОЙ ТЕННИС С ВЫСОКОЙ МАНЖ...    79руб.   \n",
       "448  УТЕПЛЕННЫЕ БРЮКИ ДЛЯ БЕГА ЖЕНСКИЕ RUN WARM ЧЕРНЫЕ  1499руб.   \n",
       "190    Шорты для современных танцев облегающие детские   399руб.   \n",
       "30   НАКЛАДКИ ДЛЯ ХУДОЖЕСТВЕННОЙ ГИМНАСТИКИ НА ПЕРЕ...  1699руб.   \n",
       "333  ГОЛЬФЫ ТОНКИЕ ВЫСОКИЕ ИЗ ШЕРСТИ МЕРИНОСА ДЛЯ Б...   799руб.   \n",
       "616        ДЛИННЫЕ ТАЙТСЫ ДЛЯ БЕГА KIPRUN WARM МУЖСКИЕ  2499руб.   \n",
       "131  Купальник для классического танца из двух видо...   899руб.   \n",
       "58   Футболка с коротким рукавом для мальчиков 100 ...   199руб.   \n",
       "313                   ТЕПЛАЯ ШАПКА ДЛЯ БЕГА RUN WARM +   499руб.   \n",
       "561                              ШАПКА ДЛЯ БЕГА ЧЕРНАЯ   399руб.   \n",
       "353                   ТЕПЛАЯ ШАПКА ДЛЯ БЕГА RUN WARM +   499руб.   \n",
       "49                               Легинсы для мальчиков   899руб.   \n",
       "97   Купальник для классического танца из двух видо...   899руб.   \n",
       "491  ТЕПЛЫЕ ДЛИННЫЕ ТАЙТСЫ ДЛЯ БЕГА RUN WARM+ МУЖСКИЕ   1499руб.   \n",
       "52                                          Полупуанты   299руб.   \n",
       "644  КУРТКА ДЛЯ БЕГА RUN WARM+ С КАРМАНОМ ДЛЯ СМАРТ...  2499руб.   \n",
       "121     Топ для дэнс-фитнеса женский красный с принтом   999руб.   \n",
       "702  Пульсометр нагрудный для бега DUAL ANT+/Blueto...  2999руб.   \n",
       "300  Детские кроссовки на липучках для легкой атлет...   799руб.   \n",
       "629                                   Ветровка мужская  2999руб.   \n",
       "574                КУРТКА ДЛЯ БЕГА KIPRUN WARM ЖЕНСКАЯ  2999руб.   \n",
       "381  Детские кроссовки на шнурках для легкой атлети...   799руб.   \n",
       "144  Юбка–вуаль для классического танца детская бле...   399руб.   \n",
       "542  Пульсометр нагрудный для бега DUAL ANT+/Blueto...  2999руб.   \n",
       "653  ГОЛЬФЫ ТОНКИЕ ВЫСОКИЕ ИЗ ШЕРСТИ МЕРИНОСА ДЛЯ Б...   799руб.   \n",
       "540  Детские кроссовки на липучках для легкой атлет...   799руб.   \n",
       "0                 Леотард гимнастический мужской синий   999руб.   \n",
       "65                                Носки Artengo rs 130    79руб.   \n",
       "138  Купальник для классического танца из двух видо...   899руб.   \n",
       "281                              ШАПКА ДЛЯ БЕГА ЧЕРНАЯ   399руб.   \n",
       "543           КРОССОВКИ ДЛЯ БЕГА МУЖСКИЕ RUN 100 СЕРЫЕ   999руб.   \n",
       "\n",
       "                                              item_url  \\\n",
       "643  https://www.decathlon.ru/povzka-universalna-se...   \n",
       "56   https://www.decathlon.ru/legginsy-d-hud-gimn-z...   \n",
       "307  https://www.decathlon.ru/kurtka-trejl-muzhska-...   \n",
       "73   https://www.decathlon.ru/kupalnik-900-zhen-sin...   \n",
       "64   https://www.decathlon.ru/noski-vysokie-rs-130-...   \n",
       "448  https://www.decathlon.ru/tepl-brjuki-run-warm-...   \n",
       "190  https://www.decathlon.ru/shorty-det-chernye-id...   \n",
       "30   https://www.decathlon.ru/nakladki-gammbf-900-i...   \n",
       "333  https://www.decathlon.ru/golfy-utepln-vysokie-...   \n",
       "616  https://www.decathlon.ru/dlin-tajtsy-kiprun-wa...   \n",
       "131  https://www.decathlon.ru/kupalnik-dl-klas-tant...   \n",
       "58   https://www.decathlon.ru/futbolka-100-mal-spor...   \n",
       "313  https://www.decathlon.ru/shapka-tepla-run-warm...   \n",
       "561  https://www.decathlon.ru/shapka-dl-bega--id_83...   \n",
       "353  https://www.decathlon.ru/shapka-tepla-run-warm...   \n",
       "49   https://www.decathlon.ru/leginsy-gamsk-500-h-f...   \n",
       "97   https://www.decathlon.ru/kupalnik-dl-klas-tant...   \n",
       "491  https://www.decathlon.ru/teplye-tajtsy-run-war...   \n",
       "52   https://www.decathlon.ru/polupuanty-id_8542921...   \n",
       "644  https://www.decathlon.ru/kurtka-beg-run-warm-m...   \n",
       "121  https://www.decathlon.ru/top-dl-djens-fitnesa-...   \n",
       "702  https://www.decathlon.ru/pulsometr-antbluetoot...   \n",
       "300  https://www.decathlon.ru/krossovki-run-support...   \n",
       "629  https://www.decathlon.ru/vetrovka-muzhska-id_8...   \n",
       "574  https://www.decathlon.ru/kurtka-kiprun-warm-zh...   \n",
       "381  https://www.decathlon.ru/krossovki-run-support...   \n",
       "144  https://www.decathlon.ru/jubka-100-tants-id_83...   \n",
       "542  https://www.decathlon.ru/pulsometr-antbluetoot...   \n",
       "653  https://www.decathlon.ru/golfy-utepln-vysokie-...   \n",
       "540  https://www.decathlon.ru/krossovki-run-support...   \n",
       "0    https://www.decathlon.ru/leotard-gaml-500-id_9...   \n",
       "65   https://www.decathlon.ru/noski-artengo-rs-130-...   \n",
       "138  https://www.decathlon.ru/kupaln-dl-klas-tantsa...   \n",
       "281  https://www.decathlon.ru/shapka-dl-bega--id_83...   \n",
       "543  https://www.decathlon.ru/krossovki-muzh-run-10...   \n",
       "\n",
       "                                              item_img     brand num_otzyv  \n",
       "643  https://contents.mediadecathlon.com/p1807609/k...   KALENJI    (4028)  \n",
       "56   https://contents.mediadecathlon.com/p1684847/k...    DOMYOS     (200)  \n",
       "307  https://contents.mediadecathlon.com/p1762401/k...   EVADICT     (791)  \n",
       "73   https://contents.mediadecathlon.com/p1712258/k...    DOMYOS      (71)  \n",
       "64   https://contents.mediadecathlon.com/p1841848/k...   ARTENGO      (29)  \n",
       "448  https://contents.mediadecathlon.com/p1932757/k...   KALENJI      (64)  \n",
       "190  https://contents.mediadecathlon.com/p1704397/k...    DOMYOS     (476)  \n",
       "30   https://contents.mediadecathlon.com/p1560851/k...    DOMYOS      (12)  \n",
       "333  https://contents.mediadecathlon.com/p1961541/k...    KIPRUN     (242)  \n",
       "616  https://contents.mediadecathlon.com/p1886339/k...    KIPRUN     (155)  \n",
       "131  https://contents.mediadecathlon.com/p1883522/k...    DOMYOS     (881)  \n",
       "58   https://contents.mediadecathlon.com/p1777040/k...    DOMYOS     (790)  \n",
       "313  https://contents.mediadecathlon.com/p1932668/k...   KALENJI    (1134)  \n",
       "561  https://contents.mediadecathlon.com/p1007226/k...   KALENJI    (2206)  \n",
       "353  https://contents.mediadecathlon.com/p1932668/k...   KALENJI    (1134)  \n",
       "49   https://contents.mediadecathlon.com/p1661336/k...    DOMYOS      (23)  \n",
       "97   https://contents.mediadecathlon.com/p1701127/k...    DOMYOS     (881)  \n",
       "491  https://contents.mediadecathlon.com/p1893261/k...   KALENJI     (959)  \n",
       "52   https://contents.mediadecathlon.com/p1751250/k...    DOMYOS       (1)  \n",
       "644  https://contents.mediadecathlon.com/p1914370/k...   KALENJI    (2077)  \n",
       "121  https://contents.mediadecathlon.com/p1883594/k...  STAREVER      (42)  \n",
       "702  https://contents.mediadecathlon.com/p1943124/k...   KALENJI    (3456)  \n",
       "300  https://contents.mediadecathlon.com/p1780482/k...   KALENJI    (1734)  \n",
       "629  https://contents.mediadecathlon.com/p1777655/k...   EVADICT     (791)  \n",
       "574  https://contents.mediadecathlon.com/p1886010/k...    KIPRUN     (211)  \n",
       "381  https://contents.mediadecathlon.com/p1780608/k...   KALENJI    (1280)  \n",
       "144  https://contents.mediadecathlon.com/p1701060/k...  STAREVER     (629)  \n",
       "542  https://contents.mediadecathlon.com/p1943124/k...   KALENJI    (3456)  \n",
       "653  https://contents.mediadecathlon.com/p1961541/k...    KIPRUN     (242)  \n",
       "540  https://contents.mediadecathlon.com/p1780482/k...   KALENJI    (1734)  \n",
       "0    https://contents.mediadecathlon.com/p1905883/k...    DOMYOS      (38)  \n",
       "65   https://contents.mediadecathlon.com/p1033745/k...   ARTENGO      (39)  \n",
       "138  https://contents.mediadecathlon.com/p1700999/k...    DOMYOS     (881)  \n",
       "281  https://contents.mediadecathlon.com/p1007226/k...   KALENJI    (2206)  \n",
       "543  https://contents.mediadecathlon.com/p207648/ke...   KALENJI    (8485)  "
      ]
     },
     "execution_count": 127,
     "metadata": {},
     "output_type": "execute_result"
    }
   ],
   "source": [
    "# Загружаем итоги в датафрейм\n",
    "df = pd.DataFrame(pl)\n",
    "df.sample(35)"
   ]
  },
  {
   "cell_type": "code",
   "execution_count": 128,
   "metadata": {},
   "outputs": [
    {
     "data": {
      "text/plain": [
       "720"
      ]
     },
     "execution_count": 128,
     "metadata": {},
     "output_type": "execute_result"
    }
   ],
   "source": [
    "# Сколько позиций спарсили\n",
    "df.shape[0]"
   ]
  }
 ],
 "metadata": {
  "kernelspec": {
   "display_name": "Python 3",
   "language": "python",
   "name": "python3"
  },
  "language_info": {
   "codemirror_mode": {
    "name": "ipython",
    "version": 3
   },
   "file_extension": ".py",
   "mimetype": "text/x-python",
   "name": "python",
   "nbconvert_exporter": "python",
   "pygments_lexer": "ipython3",
   "version": "3.8.5"
  }
 },
 "nbformat": 4,
 "nbformat_minor": 4
}
