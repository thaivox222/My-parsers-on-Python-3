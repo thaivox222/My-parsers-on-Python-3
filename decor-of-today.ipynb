{
 "cells": [
  {
   "cell_type": "markdown",
   "metadata": {},
   "source": [
    "## PoC парсера сайта decor-of-today.com"
   ]
  },
  {
   "cell_type": "markdown",
   "metadata": {},
   "source": [
    "Продукт тестировался на одной категории  - светильники. Точность работы на других категориях не гарантирую.\n",
    "Поэтому не промышленный релиз, а PoC.\n",
    "Парсер был зарелизен примерно за 5 часов по отработанной технологии из готовых блоков. Это начиная с исследования\n",
    "самого сайта и заканчивая финальной выгрузкой в датафрейм. Ну основное время, понятно, ушло на ковыряние с тегами\n",
    "и варку супа. В это раз не стал заморачиваться экспериментами с сохраненим в SQL-базу и эксепшенами. \n",
    "Просто взял и быстро написал."
   ]
  },
  {
   "cell_type": "code",
   "execution_count": null,
   "metadata": {},
   "outputs": [],
   "source": [
    "#начинаем с импорта библиотек\n",
    "import requests\n",
    "from requests.auth import HTTPProxyAuth # для проксей\n",
    "from  bs4 import BeautifulSoup as bs\n",
    "import csv\n",
    "from urllib.request import urljoin\n",
    "from tqdm.notebook import tqdm\n",
    "from collections import deque\n",
    "import pandas as pd"
   ]
  },
  {
   "cell_type": "code",
   "execution_count": 2,
   "metadata": {},
   "outputs": [],
   "source": [
    "# Задаем глобальные параметры\n",
    "headers = {'accept': '*/*',\n",
    "           'User-Agent': 'Mozilla/5.0 (Windows NT 6.3; Win64; x64) AppleWebKit/537.36 (KHTML, like Gecko) Chrome/87.0.4280.66 Safari/537.36'\n",
    "          }\n",
    "domen = 'https://decor-of-today.com'\n",
    "url='https://decor-of-today.com/catalog/'\n",
    "filename = 'd-o-t_product_links.csv'"
   ]
  },
  {
   "cell_type": "code",
   "execution_count": 76,
   "metadata": {},
   "outputs": [
    {
     "name": "stdout",
     "output_type": "stream",
     "text": [
      "DONE!\n"
     ]
    }
   ],
   "source": [
    "#формируем список продуктовых категорий и скармливаем его пагинатору\n",
    "temp_list=[]\n",
    "prodact_cat = get_category_links(headers, domen, url)\n",
    "for i in prodact_cat:\n",
    "    a = get_pagination(i, headers) #запуск пагинатора.на одной итерации обрабатывается одна категория\n",
    "    temp_list.append(a)\n",
    "#выпрямляем список пагинационных урлов    \n",
    "grid_links = []\n",
    "for sublist in temp_list:\n",
    "    for item in sublist:\n",
    "        grid_links.append(item)\n",
    "#сбор продуктовых урлов с грида        \n",
    "temp_plinks=[]\n",
    "for gl in grid_links:\n",
    "    gpl = get_product_links(gl, headers, domen)\n",
    "    temp_plinks.append(gpl)\n",
    "#выпрямляем список продуктовых урлов    \n",
    "product_links=[]\n",
    "for sublist in temp_plinks:\n",
    "    for item in sublist:\n",
    "        product_links.append(item)   \n",
    "save_products(product_links)\n",
    "print('DONE!')"
   ]
  },
  {
   "cell_type": "code",
   "execution_count": 8,
   "metadata": {},
   "outputs": [],
   "source": [
    "# Функция сбора ссылок на основные продуктовые категории\n",
    "def get_category_links(headers, domen, url):\n",
    "    session = requests.Session()\n",
    "    r = session.get(url, headers=headers)\n",
    "    soup = bs(r.text, 'lxml')\n",
    "    links = []\n",
    "    urls = set()\n",
    "    ul = soup.find('ul', class_='bx_catalog_tile_ul').find_all('a', href=True)\n",
    "    for u in ul:\n",
    "        urls.add(u['href'])\n",
    "    for i in urls:\n",
    "        link  = urljoin(domen,i)\n",
    "        links.append(link)\n",
    "    return links"
   ]
  },
  {
   "cell_type": "code",
   "execution_count": 7,
   "metadata": {},
   "outputs": [],
   "source": [
    "#  блок сбора урлов пагинации\n",
    "def get_pagination(url, headers):\n",
    "    session = requests.Session()\n",
    "    r = session.get(url, headers=headers)\n",
    "    pagi=[] \n",
    "    if r.status_code == 200:\n",
    "        soup = bs(r.content, 'lxml')\n",
    "        u = str(url)+f'?SHOWALL_2=1'\n",
    "        if u not in pagi:\n",
    "            pagi.append(u)\n",
    "    return pagi"
   ]
  },
  {
   "cell_type": "code",
   "execution_count": 6,
   "metadata": {},
   "outputs": [],
   "source": [
    "# Функция сбора ссылок на целевые страницы\n",
    "def get_product_links(url, headers, domen):\n",
    "    session = requests.Session()\n",
    "    r = session.get(url, headers=headers)\n",
    "    soup = bs(r.text, 'lxml')\n",
    "    links = []\n",
    "    urls=set()\n",
    "    if url:\n",
    "        ul = soup.find('div', attrs={'id': 'catalogList'}).find_all('a', href=True)\n",
    "        if ul:\n",
    "            for u in ul:\n",
    "                urls.add(u['href'])\n",
    "            for i in urls:\n",
    "                link  = urljoin(domen,i)\n",
    "                links.append(link)\n",
    "    return links"
   ]
  },
  {
   "cell_type": "code",
   "execution_count": 3,
   "metadata": {},
   "outputs": [],
   "source": [
    "# Функция сохранения файла со ссылками на целевые страницы\n",
    "def save_products (result):\n",
    "    with open(filename, 'w', encoding = 'utf-8') as outfile:\n",
    "        spamwriter = csv.writer(outfile, lineterminator='\\n')\n",
    "        spamwriter.writerow(['Product_Link']) \n",
    "        for i in result:\n",
    "            spamwriter.writerow([i])\n",
    "            \n",
    "# Функция загрузки файла со ссылками на целевые страницы\n",
    "def open_csv(filename):\n",
    "    results=[]\n",
    "    with open(filename, 'r') as data:\n",
    "        data.readline().rstrip()\n",
    "        for line in data:\n",
    "            results.append(line[:-1])\n",
    "    return results\n",
    "\n",
    "#Функция сохранения результатов парсинга целевых страниц\n",
    "def save_product_info(products):\n",
    "    with open('c:/Users/Vladimir/Coding/Notebooks/Парсинг/Проекты/decor-of-today/products.csv', 'w', encoding = 'utf-8') as outfile:\n",
    "        spamwriter = csv.DictWriter(outfile, fieldnames=get_field_name(products), lineterminator='\\n')    \n",
    "        spamwriter.writeheader() #записывет заголовки столбцов равные ключам словаря\n",
    "        spamwriter.writerows(products)\n",
    "        \n",
    "# Вспом.функция для сбора названия полей с словарях с продуктами для формирования заголовка в CSV (Без сортировки)\n",
    "def get_field_name(products):\n",
    "    field_names = set()\n",
    "    for i in products:\n",
    "        for k in i:\n",
    "            field_names.add(k)\n",
    "    return field_names\n",
    "\n",
    "#функция проверки уже спарсенных урлов (чтобы не запускать по ним парсинг повторно)\n",
    "def get_visited_urls():\n",
    "    try:\n",
    "        file = 'products.csv'\n",
    "        if file:\n",
    "            df = pd.read_csv(file, encoding = 'utf-8')\n",
    "            urls_done = df['5url'].tolist()\n",
    "            visited = set(urls_done)\n",
    "            return visited, df\n",
    "    except FileNotFoundError:\n",
    "        df=pd.DataFrame()\n",
    "        visited=set()\n",
    "        return visited, df # если файла не существует, товернем путой сет и список\n",
    "\n",
    "# Функция объединения прошлых и текущих результатов в 1 общий файл    \n",
    "def add_previous_part(df):\n",
    "    if df.shape[0] != 0:\n",
    "        file = 'products.csv'\n",
    "        df.to_csv(file, mode='a', index=False, encoding = 'utf-8', header=False)\n",
    "    else:\n",
    "        pass   "
   ]
  },
  {
   "cell_type": "code",
   "execution_count": 4,
   "metadata": {},
   "outputs": [],
   "source": [
    "# ВЕРСИЯ 2 С ПРОМЕЖУТОЧНЫМ СОХРАНЕНИЕМ\n",
    "def get_info2(headers, filename):\n",
    "    global df\n",
    "    results = open_csv(filename)\n",
    "    queue = deque()\n",
    "    queue.extend(results)\n",
    "    visited = get_visited_urls()[0]\n",
    "    df = get_visited_urls()[1]\n",
    "    session = requests.Session()\n",
    "    products = [] \n",
    "    while tqdm(queue, desc='Getting info from product page url', leave=False):   \n",
    "        url = queue.popleft()\n",
    "        if url in visited:\n",
    "            continue # начнет цикл while заново     \n",
    "        params={} # словарь для занесения параметров//можно в конце цикла все добавить как в кинопоиске без создания словаря\n",
    "        r = session.get(url, headers=headers)\n",
    "        soup = bs(r.text, 'lxml')\n",
    "        if soup:\n",
    "            visited.add(url) #добавляем в посещенные, только когда получим суп. т.е. страница доступна\n",
    "            try:\n",
    "                a=soup.find('h1', itemprop='name').text\n",
    "                if a:\n",
    "                    params['1_title']=a\n",
    "                b=soup.find('div', class_='article').text\n",
    "                if b:\n",
    "                    params['2_articul']=b\n",
    "                c=soup.find('div', class_='price').text\n",
    "                if c:\n",
    "                    params['3_price']=c\n",
    "                d=soup.find('div', class_='item-stock').text\n",
    "                if d:\n",
    "                    params['4_stock']=d\n",
    "                params['5url']=url\n",
    "                f=soup.find('img', class_='img-responsive zoommed')['src']\n",
    "                params['6img']=str(domen)+str(f)\n",
    "                k1=[]\n",
    "                k2=[]\n",
    "                dict1={}\n",
    "                x=soup.find('div', class_='bottom-props-content bottom-props_props active').find_all('div', class_='bottom-props_props-name')\n",
    "                for i in x:\n",
    "                    k1.append(i.text)\n",
    "                y=soup.find('div', class_='bottom-props-content bottom-props_props active').find_all('div', class_='bottom-props_props-val')\n",
    "                for i in y:\n",
    "                    k2.append(i.text)\n",
    "                dict1 = dict(zip(k1, k2))\n",
    "                params.update(dict1)\n",
    "                products.append(params)\n",
    "            except:\n",
    "                products.append(params)\n",
    "                print('Часть тегов не обнаружена. Двигаюсь дальше')\n",
    "                pass\n",
    "        else:\n",
    "            print('Проблемы с супом')\n",
    "            save_product_info(products) # промежуточное сохранение на случай если суп не обнаружен\n",
    "            return False\n",
    "    save_product_info(products) #  для сохранения в CSV\n",
    "    add_previous_part(df) # перезапись предыдущих результатов в случае перезапуска парсера\n",
    "    print('DONE!')"
   ]
  },
  {
   "cell_type": "code",
   "execution_count": 13,
   "metadata": {},
   "outputs": [
    {
     "data": {
      "application/vnd.jupyter.widget-view+json": {
       "model_id": "bdac87cedb0d4e448445752be2907b81",
       "version_major": 2,
       "version_minor": 0
      },
      "text/plain": [
       "HBox(children=(HTML(value='Getting info from product page url'), FloatProgress(value=0.0, max=14.0), HTML(valu…"
      ]
     },
     "metadata": {},
     "output_type": "display_data"
    },
    {
     "data": {
      "application/vnd.jupyter.widget-view+json": {
       "model_id": "1d4d95d832b64852b837864465c2621e",
       "version_major": 2,
       "version_minor": 0
      },
      "text/plain": [
       "HBox(children=(HTML(value='Getting info from product page url'), FloatProgress(value=0.0, max=13.0), HTML(valu…"
      ]
     },
     "metadata": {},
     "output_type": "display_data"
    },
    {
     "data": {
      "application/vnd.jupyter.widget-view+json": {
       "model_id": "f3d031544ea84932ae63e219b0d6aab5",
       "version_major": 2,
       "version_minor": 0
      },
      "text/plain": [
       "HBox(children=(HTML(value='Getting info from product page url'), FloatProgress(value=0.0, max=12.0), HTML(valu…"
      ]
     },
     "metadata": {},
     "output_type": "display_data"
    },
    {
     "data": {
      "application/vnd.jupyter.widget-view+json": {
       "model_id": "93c0f75e1bd444f3a8d663b536b0869e",
       "version_major": 2,
       "version_minor": 0
      },
      "text/plain": [
       "HBox(children=(HTML(value='Getting info from product page url'), FloatProgress(value=0.0, max=11.0), HTML(valu…"
      ]
     },
     "metadata": {},
     "output_type": "display_data"
    },
    {
     "data": {
      "application/vnd.jupyter.widget-view+json": {
       "model_id": "5e506e4be1ac46aca8811488264f2daf",
       "version_major": 2,
       "version_minor": 0
      },
      "text/plain": [
       "HBox(children=(HTML(value='Getting info from product page url'), FloatProgress(value=0.0, max=10.0), HTML(valu…"
      ]
     },
     "metadata": {},
     "output_type": "display_data"
    },
    {
     "data": {
      "application/vnd.jupyter.widget-view+json": {
       "model_id": "bdb3611791d9471fae11ffd1a7c5bfd4",
       "version_major": 2,
       "version_minor": 0
      },
      "text/plain": [
       "HBox(children=(HTML(value='Getting info from product page url'), FloatProgress(value=0.0, max=9.0), HTML(value…"
      ]
     },
     "metadata": {},
     "output_type": "display_data"
    },
    {
     "data": {
      "application/vnd.jupyter.widget-view+json": {
       "model_id": "e5f368a1ed3749abacddc9fc5c13f2b8",
       "version_major": 2,
       "version_minor": 0
      },
      "text/plain": [
       "HBox(children=(HTML(value='Getting info from product page url'), FloatProgress(value=0.0, max=8.0), HTML(value…"
      ]
     },
     "metadata": {},
     "output_type": "display_data"
    },
    {
     "data": {
      "application/vnd.jupyter.widget-view+json": {
       "model_id": "cba60595983144408b3221cd42b113d1",
       "version_major": 2,
       "version_minor": 0
      },
      "text/plain": [
       "HBox(children=(HTML(value='Getting info from product page url'), FloatProgress(value=0.0, max=7.0), HTML(value…"
      ]
     },
     "metadata": {},
     "output_type": "display_data"
    },
    {
     "data": {
      "application/vnd.jupyter.widget-view+json": {
       "model_id": "37a39a6417cb4c8fae0b5e7caf896e14",
       "version_major": 2,
       "version_minor": 0
      },
      "text/plain": [
       "HBox(children=(HTML(value='Getting info from product page url'), FloatProgress(value=0.0, max=6.0), HTML(value…"
      ]
     },
     "metadata": {},
     "output_type": "display_data"
    },
    {
     "data": {
      "application/vnd.jupyter.widget-view+json": {
       "model_id": "bbf4c23080b542578bbad38471458374",
       "version_major": 2,
       "version_minor": 0
      },
      "text/plain": [
       "HBox(children=(HTML(value='Getting info from product page url'), FloatProgress(value=0.0, max=5.0), HTML(value…"
      ]
     },
     "metadata": {},
     "output_type": "display_data"
    },
    {
     "data": {
      "application/vnd.jupyter.widget-view+json": {
       "model_id": "8fdf8c21e0754cee9fbc52e3c541dee8",
       "version_major": 2,
       "version_minor": 0
      },
      "text/plain": [
       "HBox(children=(HTML(value='Getting info from product page url'), FloatProgress(value=0.0, max=4.0), HTML(value…"
      ]
     },
     "metadata": {},
     "output_type": "display_data"
    },
    {
     "data": {
      "application/vnd.jupyter.widget-view+json": {
       "model_id": "82be4db507e4443698304dfc6fa505e2",
       "version_major": 2,
       "version_minor": 0
      },
      "text/plain": [
       "HBox(children=(HTML(value='Getting info from product page url'), FloatProgress(value=0.0, max=3.0), HTML(value…"
      ]
     },
     "metadata": {},
     "output_type": "display_data"
    },
    {
     "data": {
      "application/vnd.jupyter.widget-view+json": {
       "model_id": "26758f5fc10a49e0a2da65a2f84aabe4",
       "version_major": 2,
       "version_minor": 0
      },
      "text/plain": [
       "HBox(children=(HTML(value='Getting info from product page url'), FloatProgress(value=0.0, max=2.0), HTML(value…"
      ]
     },
     "metadata": {},
     "output_type": "display_data"
    },
    {
     "data": {
      "application/vnd.jupyter.widget-view+json": {
       "model_id": "50ecb4cc5fc04b388f75aeab5fd776ad",
       "version_major": 2,
       "version_minor": 0
      },
      "text/plain": [
       "HBox(children=(HTML(value='Getting info from product page url'), FloatProgress(value=0.0, max=1.0), HTML(value…"
      ]
     },
     "metadata": {},
     "output_type": "display_data"
    },
    {
     "data": {
      "application/vnd.jupyter.widget-view+json": {
       "model_id": "34f19e0e8c174801a90ec093753e1058",
       "version_major": 2,
       "version_minor": 0
      },
      "text/plain": [
       "HBox(children=(HTML(value='Getting info from product page url'), FloatProgress(value=1.0, bar_style='info', la…"
      ]
     },
     "metadata": {},
     "output_type": "display_data"
    },
    {
     "name": "stdout",
     "output_type": "stream",
     "text": [
      "DONE!\n"
     ]
    }
   ],
   "source": [
    "get_info2(headers, filename)"
   ]
  },
  {
   "cell_type": "code",
   "execution_count": 14,
   "metadata": {},
   "outputs": [
    {
     "data": {
      "text/html": [
       "<div>\n",
       "<style scoped>\n",
       "    .dataframe tbody tr th:only-of-type {\n",
       "        vertical-align: middle;\n",
       "    }\n",
       "\n",
       "    .dataframe tbody tr th {\n",
       "        vertical-align: top;\n",
       "    }\n",
       "\n",
       "    .dataframe thead th {\n",
       "        text-align: right;\n",
       "    }\n",
       "</style>\n",
       "<table border=\"1\" class=\"dataframe\">\n",
       "  <thead>\n",
       "    <tr style=\"text-align: right;\">\n",
       "      <th></th>\n",
       "      <th>1_title</th>\n",
       "      <th>2_articul</th>\n",
       "      <th>3_price</th>\n",
       "      <th>4_stock</th>\n",
       "      <th>5url</th>\n",
       "      <th>6img</th>\n",
       "      <th>Гарантия</th>\n",
       "      <th>Диаметр</th>\n",
       "      <th>Количество ламп</th>\n",
       "      <th>Мощность ламп (W)</th>\n",
       "      <th>Напряжение (V)</th>\n",
       "      <th>Производитель</th>\n",
       "      <th>Степень защиты</th>\n",
       "      <th>Тип лампочки</th>\n",
       "      <th>Тип цоколя</th>\n",
       "    </tr>\n",
       "  </thead>\n",
       "  <tbody>\n",
       "    <tr>\n",
       "      <th>0</th>\n",
       "      <td>Светильник подвесной KH01107</td>\n",
       "      <td>арт. KH01107</td>\n",
       "      <td>10 500</td>\n",
       "      <td>В наличии</td>\n",
       "      <td>https://decor-of-today.com/catalog/svet/svetil...</td>\n",
       "      <td>https://decor-of-today.com/upload/resize_cache...</td>\n",
       "      <td>1 год</td>\n",
       "      <td>36 см</td>\n",
       "      <td>1.0</td>\n",
       "      <td>25</td>\n",
       "      <td>220</td>\n",
       "      <td>Индия</td>\n",
       "      <td>IP 20</td>\n",
       "      <td>Накаливания</td>\n",
       "      <td>E 27</td>\n",
       "    </tr>\n",
       "    <tr>\n",
       "      <th>1</th>\n",
       "      <td>Светильник подвесной KH01132</td>\n",
       "      <td>арт. KH01132</td>\n",
       "      <td>8 000</td>\n",
       "      <td>В наличии</td>\n",
       "      <td>https://decor-of-today.com/catalog/svet/svetil...</td>\n",
       "      <td>https://decor-of-today.com/upload/resize_cache...</td>\n",
       "      <td>1 год</td>\n",
       "      <td>22 см</td>\n",
       "      <td>1.0</td>\n",
       "      <td>25</td>\n",
       "      <td>220</td>\n",
       "      <td>Индия</td>\n",
       "      <td>IP 20</td>\n",
       "      <td>Накаливания</td>\n",
       "      <td>E 27</td>\n",
       "    </tr>\n",
       "    <tr>\n",
       "      <th>2</th>\n",
       "      <td>Светильник настенный 01537</td>\n",
       "      <td>арт. 01537</td>\n",
       "      <td>29 400</td>\n",
       "      <td>В наличии</td>\n",
       "      <td>https://decor-of-today.com/catalog/svet/svetil...</td>\n",
       "      <td>https://decor-of-today.com/upload/resize_cache...</td>\n",
       "      <td>1 год</td>\n",
       "      <td>11</td>\n",
       "      <td>1.0</td>\n",
       "      <td>40</td>\n",
       "      <td>220</td>\n",
       "      <td>Индия</td>\n",
       "      <td>IP 54</td>\n",
       "      <td>Накаливания</td>\n",
       "      <td>E 27</td>\n",
       "    </tr>\n",
       "    <tr>\n",
       "      <th>3</th>\n",
       "      <td>Светильник настенный 01551</td>\n",
       "      <td>арт. 01551</td>\n",
       "      <td>14 500</td>\n",
       "      <td>В наличии</td>\n",
       "      <td>https://decor-of-today.com/catalog/svet/svetil...</td>\n",
       "      <td>https://decor-of-today.com/upload/resize_cache...</td>\n",
       "      <td>1 год</td>\n",
       "      <td>16</td>\n",
       "      <td>1.0</td>\n",
       "      <td>25</td>\n",
       "      <td>220</td>\n",
       "      <td>Индия</td>\n",
       "      <td>IP 20</td>\n",
       "      <td>Накаливания</td>\n",
       "      <td>E 14</td>\n",
       "    </tr>\n",
       "    <tr>\n",
       "      <th>4</th>\n",
       "      <td>Светильник настенный 01547</td>\n",
       "      <td>арт. 01547</td>\n",
       "      <td>12 800</td>\n",
       "      <td>В наличии</td>\n",
       "      <td>https://decor-of-today.com/catalog/svet/svetil...</td>\n",
       "      <td>https://decor-of-today.com/upload/resize_cache...</td>\n",
       "      <td>1 год</td>\n",
       "      <td>10</td>\n",
       "      <td>1.0</td>\n",
       "      <td>40</td>\n",
       "      <td>220</td>\n",
       "      <td>Индия</td>\n",
       "      <td>IP 54</td>\n",
       "      <td>Накаливания</td>\n",
       "      <td>E 27</td>\n",
       "    </tr>\n",
       "  </tbody>\n",
       "</table>\n",
       "</div>"
      ],
      "text/plain": [
       "                        1_title     2_articul  3_price    4_stock  \\\n",
       "0  Светильник подвесной KH01107  арт. KH01107  10 500   В наличии   \n",
       "1  Светильник подвесной KH01132  арт. KH01132   8 000   В наличии   \n",
       "2    Светильник настенный 01537    арт. 01537  29 400   В наличии   \n",
       "3    Светильник настенный 01551    арт. 01551  14 500   В наличии   \n",
       "4    Светильник настенный 01547    арт. 01547  12 800   В наличии   \n",
       "\n",
       "                                                5url  \\\n",
       "0  https://decor-of-today.com/catalog/svet/svetil...   \n",
       "1  https://decor-of-today.com/catalog/svet/svetil...   \n",
       "2  https://decor-of-today.com/catalog/svet/svetil...   \n",
       "3  https://decor-of-today.com/catalog/svet/svetil...   \n",
       "4  https://decor-of-today.com/catalog/svet/svetil...   \n",
       "\n",
       "                                                6img Гарантия Диаметр  \\\n",
       "0  https://decor-of-today.com/upload/resize_cache...    1 год   36 см   \n",
       "1  https://decor-of-today.com/upload/resize_cache...    1 год   22 см   \n",
       "2  https://decor-of-today.com/upload/resize_cache...    1 год      11   \n",
       "3  https://decor-of-today.com/upload/resize_cache...    1 год      16   \n",
       "4  https://decor-of-today.com/upload/resize_cache...    1 год      10   \n",
       "\n",
       "   Количество ламп  Мощность ламп (W)  Напряжение (V) Производитель  \\\n",
       "0              1.0                 25             220         Индия   \n",
       "1              1.0                 25             220         Индия   \n",
       "2              1.0                 40             220         Индия   \n",
       "3              1.0                 25             220         Индия   \n",
       "4              1.0                 40             220         Индия   \n",
       "\n",
       "  Степень защиты Тип лампочки Тип цоколя  \n",
       "0          IP 20  Накаливания       E 27  \n",
       "1          IP 20  Накаливания       E 27  \n",
       "2          IP 54  Накаливания       E 27  \n",
       "3          IP 20  Накаливания       E 14  \n",
       "4          IP 54  Накаливания       E 27  "
      ]
     },
     "execution_count": 14,
     "metadata": {},
     "output_type": "execute_result"
    }
   ],
   "source": [
    "import pandas as pd\n",
    "df=pd.read_csv('products.csv', encoding='utf-8')\n",
    "df.sort_index(inplace=True, axis=1)\n",
    "df.head()"
   ]
  },
  {
   "cell_type": "code",
   "execution_count": null,
   "metadata": {},
   "outputs": [],
   "source": []
  }
 ],
 "metadata": {
  "kernelspec": {
   "display_name": "Python 3",
   "language": "python",
   "name": "python3"
  },
  "language_info": {
   "codemirror_mode": {
    "name": "ipython",
    "version": 3
   },
   "file_extension": ".py",
   "mimetype": "text/x-python",
   "name": "python",
   "nbconvert_exporter": "python",
   "pygments_lexer": "ipython3",
   "version": "3.8.5"
  }
 },
 "nbformat": 4,
 "nbformat_minor": 4
}
