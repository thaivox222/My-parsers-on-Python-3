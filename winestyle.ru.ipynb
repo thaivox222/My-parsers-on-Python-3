{
 "cells": [
  {
   "cell_type": "markdown",
   "metadata": {},
   "source": [
    "### 1. Импортируеми библиотеки"
   ]
  },
  {
   "cell_type": "code",
   "execution_count": 2,
   "metadata": {},
   "outputs": [],
   "source": [
    "import pandas as pd\n",
    "import requests\n",
    "import csv\n",
    "from  bs4 import BeautifulSoup as bs\n",
    "from urllib.request import urljoin"
   ]
  },
  {
   "cell_type": "markdown",
   "metadata": {},
   "source": [
    "### 2. Запускаем сбор урлов категорий"
   ]
  },
  {
   "cell_type": "code",
   "execution_count": 43,
   "metadata": {},
   "outputs": [
    {
     "data": {
      "text/plain": [
       "['https://winestyle.ru/promo/discount/',\n",
       " 'https://winestyle.ru/wine/',\n",
       " 'https://winestyle.ru/champagnes-and-sparkling/',\n",
       " 'https://winestyle.ru/whisky/',\n",
       " 'https://winestyle.ru/cognac/',\n",
       " 'https://winestyle.ru/beer/',\n",
       " 'https://winestyle.ru/liqueur/',\n",
       " 'https://winestyle.ru/vodka/',\n",
       " 'https://winestyle.ru/water/',\n",
       " 'https://winestyle.ru/wine-set/',\n",
       " 'https://winestyle.ru/glass/',\n",
       " 'https://winestyle.ru/accessory/',\n",
       " 'https://winestyle.ru/chocolate/',\n",
       " 'https://winestyle.ru/rum/']"
      ]
     },
     "metadata": {},
     "output_type": "display_data"
    }
   ],
   "source": [
    "# Ф1\n",
    "# ====================================Задаем параметры сессии\n",
    "headers = {'accept': '*/*',\n",
    "           'User-Agent': 'Mozilla/5.0 (Windows NT 6.3; Win64; x64) AppleWebKit/537.36 (KHTML, like Gecko) Chrome/79.0.3945.130 Safari/'\n",
    "          }\n",
    "domen = 'https://winestyle.ru/'\n",
    "url = 'https://winestyle.ru/'\n",
    "session = requests.Session()\n",
    "r = session.get(url, headers=headers)\n",
    "soup = bs(r.text, 'lxml')\n",
    "# ====================================Завершили параметры сессии\n",
    "links = []\n",
    "urls=[]\n",
    "ul = soup.find('ul', class_='menu menu-main clearfix')\n",
    "if ul:\n",
    "    for li in ul.find_all('li'):\n",
    "        a = li.find('a', href=True)\n",
    "        if a:\n",
    "            urls.append(a['href'])\n",
    "for u in urls:\n",
    "    link  = urljoin(domen,u)\n",
    "    links.append(link)\n",
    "display(links)"
   ]
  },
  {
   "cell_type": "markdown",
   "metadata": {},
   "source": [
    "### 3. Выбор категорий для парсинга"
   ]
  },
  {
   "cell_type": "code",
   "execution_count": 42,
   "metadata": {},
   "outputs": [
    {
     "data": {
      "text/plain": [
       "['https://winestyle.ru/cognac/', 'https://winestyle.ru/whisky/']"
      ]
     },
     "execution_count": 42,
     "metadata": {},
     "output_type": "execute_result"
    }
   ],
   "source": [
    "# Ф2.1 доп.\n",
    "links2=[]\n",
    "links2.append(links[4])\n",
    "links2.append(links[3])\n",
    "links2"
   ]
  },
  {
   "cell_type": "markdown",
   "metadata": {},
   "source": [
    "### 4. Запускаем сбор пагинации"
   ]
  },
  {
   "cell_type": "code",
   "execution_count": null,
   "metadata": {},
   "outputs": [],
   "source": [
    "# Ф2\n",
    "pagination = []\n",
    "for i in links2: # заменить на links2 при тестировании\n",
    "    u = str(i)+str('all/?page=')\n",
    "    first_page = str(i)+str('all')\n",
    "    pagination.append(first_page)\n",
    "    p = 2\n",
    "    pagi_url='https://winestyle.ru/'\n",
    "    while status(pagi_url) == 200:\n",
    "        pagi_url = str(u)+str(p)\n",
    "        display(pagi_url)\n",
    "        pagination.append(pagi_url)\n",
    "        p+=1\n",
    "    else:\n",
    "        pagination.remove(pagi_url)\n",
    "        save(pagination)\n",
    "        print(pagination[-1])\n",
    "        pagination = []\n",
    "        continue"
   ]
  },
  {
   "cell_type": "code",
   "execution_count": null,
   "metadata": {},
   "outputs": [],
   "source": [
    "# Ф2.2 доп. (Проверка наличия страницы пагинации)\n",
    "def status (url):\n",
    "    headers = {'accept': '*/*',\n",
    "           'User-Agent': 'Mozilla/5.0 (Windows NT 6.3; Win64; x64) AppleWebKit/537.36 (KHTML, like Gecko) Chrome/79.0.3945.130 Safari/'\n",
    "          }\n",
    "    session = requests.Session()\n",
    "    r = session.get(url, headers=headers)\n",
    "    response = r.status_code\n",
    "    return response\n",
    "\n",
    "# Ф2.3 доп. (Сохранение промежуточных результатов)\n",
    "def save (result):\n",
    "    #import csv\n",
    "    filename = str(pagination[0][21:]).replace('/','.')+str('.csv')\n",
    "    with open(filename, 'w') as outfile:\n",
    "        spamwriter = csv.writer(outfile, lineterminator='\\n')\n",
    "        spamwriter.writerow(['Page_Link']) \n",
    "        for i in result:\n",
    "            spamwriter.writerow([i])  "
   ]
  },
  {
   "cell_type": "markdown",
   "metadata": {},
   "source": [
    "### Загружаем пагинацию выбранной категории"
   ]
  },
  {
   "cell_type": "code",
   "execution_count": 51,
   "metadata": {},
   "outputs": [],
   "source": [
    "# Ф3\n",
    "results=[]\n",
    "with open('../cognac.all.csv', 'r') as data:\n",
    "    data.readline().rstrip()\n",
    "    for line in data:\n",
    "        results.append(line[:-1])  "
   ]
  },
  {
   "cell_type": "markdown",
   "metadata": {},
   "source": [
    "### Запускаем сбор урлов целевых страниц"
   ]
  },
  {
   "cell_type": "code",
   "execution_count": null,
   "metadata": {},
   "outputs": [],
   "source": [
    "# Ф4\n",
    "# ====================================Задаем параметры сессии====================\n",
    "headers = {'accept': '*/*',\n",
    "           'User-Agent': 'Mozilla/5.0 (Windows NT 6.3; Win64; x64) AppleWebKit/537.36 (KHTML, like Gecko) Chrome/79.0.3945.130 Safari/'\n",
    "          }\n",
    "domen = 'https://winestyle.ru/'\n",
    "#url = 'https://winestyle.ru/'            /объявляется внутри цикла for\n",
    "session = requests.Session()\n",
    "#r = session.get(url, headers=headers)   /объявляется внутри цикла for\n",
    "#soup = bs(r.text, 'lxml')               /объявляется внутри цикла for\n",
    "# ====================================Завершили параметры сессии===================\n",
    "products_links=[]\n",
    "for url in results: #для полного прогона\n",
    "    r = session.get(url, headers=headers)\n",
    "    soup = bs(r.text, 'lxml')\n",
    "    if soup != None:\n",
    "        t_links = soup.find_all('p', class_=\"title\")\n",
    "        for i in t_links:\n",
    "            pl = i.find('a', href=True)\n",
    "            d = urljoin(domen,pl['href'])\n",
    "            products_links.append(d)\n",
    "            print(str(url[-3:])+str(' ')+str(d))\n",
    "save_products(products_links) #вызываем функцию сохранения результатов"
   ]
  },
  {
   "cell_type": "code",
   "execution_count": 55,
   "metadata": {},
   "outputs": [],
   "source": [
    "# Ф4. Доп. (сохраняем ссылки на целевые страницы в csv файл)\n",
    "def save_products (result):\n",
    "    with open('product_links.csv', 'w') as outfile:\n",
    "        spamwriter = csv.writer(outfile, lineterminator='\\n')\n",
    "        spamwriter.writerow(['Product_Link']) \n",
    "        for i in result:\n",
    "            spamwriter.writerow([i])"
   ]
  },
  {
   "cell_type": "markdown",
   "metadata": {},
   "source": [
    "### Загружаем урлы целевых страниц "
   ]
  },
  {
   "cell_type": "code",
   "execution_count": 57,
   "metadata": {},
   "outputs": [],
   "source": [
    "# Ф5\n",
    "results=[]\n",
    "with open('../product_links.csv', 'r') as data:\n",
    "    data.readline().rstrip()\n",
    "    for line in data:\n",
    "        results.append(line[:-1]) "
   ]
  },
  {
   "cell_type": "markdown",
   "metadata": {},
   "source": [
    "### Запускаем парсинг целевых страниц"
   ]
  },
  {
   "cell_type": "code",
   "execution_count": null,
   "metadata": {},
   "outputs": [],
   "source": [
    "# Ф6\n",
    "# ====================================Задаем параметры сессии====================\n",
    "headers = {'accept': '*/*',\n",
    "           'User-Agent': 'Mozilla/5.0 (Windows NT 6.3; Win64; x64) AppleWebKit/537.36 (KHTML, like Gecko) Chrome/79.0.3945.130 Safari/'\n",
    "          }\n",
    "#domen = 'https://winestyle.ru/'          /здесь не нужен\n",
    "#url = 'https://winestyle.ru/'            /объявляется внутри цикла for\n",
    "session = requests.Session()\n",
    "#r = session.get(url, headers=headers)   /объявляется внутри цикла for\n",
    "#soup = bs(r.text, 'lxml')               /объявляется внутри цикла for\n",
    "# ====================================Завершили параметры сессии===================\n",
    "products=[] # список, куда будем вставлять словари product\n",
    "for url in results:\n",
    "    product={}  # словарь для занесения параметров\n",
    "    r = session.get(url, headers=headers)\n",
    "    soup = bs(r.text, 'lxml')  \n",
    "    try:\n",
    "        if soup:\n",
    "            articul = soup.find('span', class_='bg-text')\n",
    "            if articul:\n",
    "                product['Артикул'] = str(articul.text).lstrip('Артикул:')\n",
    "            title = soup.find('h1').text\n",
    "            if title:\n",
    "                product['Название'] = title.strip()            \n",
    "            price = soup.find('div', class_='price').text\n",
    "            if price:\n",
    "                product['Цена'] = price.strip()\n",
    "            params = soup.find('ul', class_='list-description list-description-lined').find_all('li')\n",
    "            fr = soup.find('ul', class_='list-description list-description-lined').text\n",
    "            dm = fr.strip().split('\\n\\n')\n",
    "            count=1\n",
    "            l1=[]\n",
    "            l2=[]\n",
    "            dict1={}\n",
    "            for i in dm:\n",
    "                i.strip().replace(' ','')\n",
    "                if count%2 == 0:\n",
    "                    l1.append(i)\n",
    "                else:\n",
    "                    l2.append(i.strip())\n",
    "                count +=1\n",
    "            test_dict={}\n",
    "            test_dict = dict(zip(l2, l1))\n",
    "            product.update(test_dict)\n",
    "            product['Страница']=url                       \n",
    "            pic = soup.find('a', class_='img-container fancybox', href=True)['href']\n",
    "            if pic:\n",
    "                product['Изображение'] = pic.strip()     \n",
    "            score = soup.find('div', class_='info-block rating-text rating-text-big').find('span', class_='text').text\n",
    "            if score:\n",
    "                product['Рейтинг'] = score.strip()\n",
    "    except  AttributeError :\n",
    "         pass\n",
    "    products.append(product)\n",
    "save_product_info(products)"
   ]
  },
  {
   "cell_type": "code",
   "execution_count": 61,
   "metadata": {},
   "outputs": [],
   "source": [
    "# Ф6.1 Доп.  (собираем названия полей с словарях с продуктами для формирования заголовка в CSV)\n",
    "def get_field_name(products):\n",
    "    field_names = set()\n",
    "    for i in products:\n",
    "        for k in i:\n",
    "            field_names.add(k)\n",
    "    return field_names"
   ]
  },
  {
   "cell_type": "code",
   "execution_count": 73,
   "metadata": {},
   "outputs": [],
   "source": [
    "# Ф6.2 Доп. (Сохраняем финальные результаты)\n",
    "def save_product_info(products):\n",
    "    with open('../products.csv', 'w') as outfile:\n",
    "        spamwriter = csv.DictWriter(outfile, fieldnames=get_field_name(products), lineterminator='\\n')    \n",
    "        spamwriter.writeheader() #записывет заголовки столбцов равные ключам словаря\n",
    "        spamwriter.writerows(products)"
   ]
  }
 ],
 "metadata": {
  "kernelspec": {
   "display_name": "Python 3",
   "language": "python",
   "name": "python3"
  },
  "language_info": {
   "codemirror_mode": {
    "name": "ipython",
    "version": 3
   },
   "file_extension": ".py",
   "mimetype": "text/x-python",
   "name": "python",
   "nbconvert_exporter": "python",
   "pygments_lexer": "ipython3",
   "version": "3.8.5"
  }
 },
 "nbformat": 4,
 "nbformat_minor": 4
}
